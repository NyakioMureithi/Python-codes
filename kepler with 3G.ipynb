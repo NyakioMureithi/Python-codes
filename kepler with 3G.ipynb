{
 "cells": [
  {
   "cell_type": "markdown",
   "metadata": {},
   "source": [
    "### Mapping all Cells with Geopandas and Kepler.GL"
   ]
  },
  {
   "cell_type": "code",
   "execution_count": 1,
   "metadata": {},
   "outputs": [],
   "source": [
    "import pyodbc\n",
    "import numpy as np\n",
    "import pandas as pd\n",
    "import geopandas as gpd\n",
    "from shapely.geometry import asPolygon, box, LineString, Point, Polygon\n",
    "from geopy.distance import geodesic\n",
    "from time import time\n",
    "from keplergl import KeplerGl\n",
    "import pickle"
   ]
  },
  {
   "cell_type": "code",
   "execution_count": 2,
   "metadata": {},
   "outputs": [
    {
     "name": "stdout",
     "output_type": "stream",
     "text": [
      "INFO: Pandarallel will run on 4 workers.\n",
      "INFO: Pandarallel will use standard multiprocessing data transfer (pipe) to transfer data between the main process and workers.\n"
     ]
    }
   ],
   "source": [
    "from pandarallel import pandarallel\n",
    "pandarallel.initialize(progress_bar=True)"
   ]
  },
  {
   "cell_type": "markdown",
   "metadata": {},
   "source": [
    "#### Getting the Data From DBs"
   ]
  },
  {
   "cell_type": "code",
   "execution_count": 3,
   "metadata": {},
   "outputs": [],
   "source": [
    "null_integer = -9999999999  # with 10 9s\n",
    "    \n",
    "cellsConn = pyodbc.connect('Driver={ODBC Driver 17 for SQL Server};'\n",
    "                             'Server=10.197.4.184;'\n",
    "                             'Database=S-iSON;'\n",
    "                             'UID=mnmureithi;'\n",
    "                             'PWD=Capri Italy@2019;')\n",
    "\n",
    "query = (\n",
    "\"Select b1.*, Region,Site_Name,Cell_Name,Latitude,Longitude, Azimuth,BAND from(SELECT a1.starttime,a1.[did],avg([VS.HSDPA.MeanChThroughput]) as 'HSDPA Throughput' ,case when sum([VS.TCP.0]+[VS.TCP.1]+[VS.TCP.2]+[VS.TCP.3]+[VS.TCP.4]+[VS.TCP.5]+[VS.TCP.6]+[VS.TCP.7]+[VS.TCP.8]+[VS.TCP.9]+[VS.TCP.10]+[VS.TCP.11]+[VS.TCP.12]+[VS.TCP.13]+[VS.TCP.14]+[VS.TCP.15]+[VS.TCP.16]+[VS.TCP.17]+[VS.TCP.18]+[VS.TCP.19])=0 then null else sum(((7.5)*[VS.TCP.1])+((12.5)*[VS.TCP.2])+((17.5)*[VS.TCP.3])+((22.5)*[VS.TCP.4])+((27.5)*[VS.TCP.5])+((32.5)*[VS.TCP.6])+((37.5)*[VS.TCP.7])+((42.5)*[VS.TCP.8])+((47.5)*[VS.TCP.9])+((52.5)*[VS.TCP.10])+((57.5)*[VS.TCP.11])+((62.5)*[VS.TCP.12])+((67.5)*[VS.TCP.13])+((72.5)*[VS.TCP.14])+((77.5)*[VS.TCP.15])+((82.5)*[VS.TCP.16])+((87.5)*[VS.TCP.17])+((92.5)*[VS.TCP.18])+((97.5)*[VS.TCP.19]))/sum(([VS.TCP.0]+[VS.TCP.1]+[VS.TCP.2]+[VS.TCP.3]+[VS.TCP.4]+[VS.TCP.5]+[VS.TCP.6]+[VS.TCP.7]+[VS.TCP.8]+[VS.TCP.9]+[VS.TCP.10]+[VS.TCP.11]+[VS.TCP.12]+[VS.TCP.13]+[VS.TCP.14]+[VS.TCP.15]+[VS.TCP.16]+[VS.TCP.17]+[VS.TCP.18]+[VS.TCP.19]))end as 'TCPload' FROM [Z_Hourly_Huawei_Counters].[rnc].[U_HSDPA] as a1 inner join [Z_Hourly_Huawei_Counters].[rnc].[U_TX_RX_Power] as a2 on (a1.did=a2.did and a1.starttime = a2.Starttime) where convert(date,a1.starttime) >= convert(date,getdate()-1) and [VS.HSDPA.MeanChThroughput]<500 group by a1.starttime,a1.[did] ,[VS.HSDPA.MeanChThroughput] union SELECT t1.starttime,t1.[did],case when sum([Active_HS_DSCH_end_user_throughput_DENOM])=0 then Null else avg([Active_HS_DSCH_end_user_throughput_NOM])/avg([Active_HS_DSCH_end_user_throughput_DENOM]) end as 'HSDPA throughput' ,CASE WHEN sum([TX_CR_PWR_CLASS_0_M1000C342] + [TX_CR_PWR_CLASS_1_M1000C343] + [TX_CR_PWR_CLASS_2_M1000C344] + [TX_CR_PWR_CLASS_3_M1000C345] + [TX_CR_PWR_CLASS_4_M1000C346] + [TX_CR_PWR_CLASS_5_M1000C347]+ [TX_CR_PWR_CLASS_6_M1000C348] + [TX_CR_PWR_CLASS_7_M1000C349] + [TX_CR_PWR_CLASS_8_M1000C350] + [TX_CR_PWR_CLASS_9_M1000C351] + [TX_CR_PWR_CLASS_10_M1000C352])= 0 THEN Null ELSE sum(13.58391486*[TX_CR_PWR_CLASS_5_M1000C347]+31.96693704*[TX_CR_PWR_CLASS_6_M1000C348] + 48.63360371*[TX_CR_PWR_CLASS_7_M1000C349] + 61.74514484*[TX_CR_PWR_CLASS_8_M1000C350] + 72.85625595*[TX_CR_PWR_CLASS_9_M1000C351] + 91.36169264*[TX_CR_PWR_CLASS_10_M1000C352])/ sum([TX_CR_PWR_CLASS_0_M1000C342] + [TX_CR_PWR_CLASS_1_M1000C343] + [TX_CR_PWR_CLASS_2_M1000C344] + [TX_CR_PWR_CLASS_3_M1000C345] + [TX_CR_PWR_CLASS_4_M1000C346] + [TX_CR_PWR_CLASS_5_M1000C347]+ [TX_CR_PWR_CLASS_6_M1000C348] + [TX_CR_PWR_CLASS_7_M1000C349] + [TX_CR_PWR_CLASS_8_M1000C350] + [TX_CR_PWR_CLASS_9_M1000C351] + [TX_CR_PWR_CLASS_10_M1000C352]) end as 'TCPload'FROM [KPI_Nokia].[kpi].[UMTS_Main_KPIs] as t1 inner join [Z_Hourly_Nokia_Counters].[nokrww].[Cell_Resource] as t2 on (t1.did=t2.did and t2.starttime = t1.starttime) where convert(date,t1.starttime) >= convert(date,getdate()-1) and case when ([Active_HS_DSCH_end_user_throughput_DENOM])=0 then Null else ([Active_HS_DSCH_end_user_throughput_NOM])/([Active_HS_DSCH_end_user_throughput_DENOM]) end <500 group by t1.[starttime],t1.[did]) as b1 inner join [KPI_Gids].[gid].[KPI_Cell_gids] as b2 on b1.did=b2.did where TCPload<70\"\n",
    ")"
   ]
  },
  {
   "cell_type": "code",
   "execution_count": 4,
   "metadata": {},
   "outputs": [],
   "source": [
    "def setting_cells_df_datatypes(cells_df):\n",
    "    cells_df.starttime = pd.to_datetime(cells_df.starttime)\n",
    "\n",
    "    cells_df.Azimuth = cells_df.Azimuth.astype(float)\n",
    "    \n",
    "    # Removing the special characters from the name Columns\n",
    "    # Repeating it might be faster than using a loop TODO: Confirm if this is true\n",
    "    cells_df['Cell_Name'] = cells_df['Cell_Name'].str.translate({ord(c): \" \" for c in \"!@#$%^&*()[]{};:,./<>?\\|`~=+\"})\n",
    "    cells_df['Site_Name'] = cells_df['Site_Name'].str.translate({ord(c): \" \" for c in \"!@#$%^&*()[]{};:,./<>?\\|`~=+\"})\n",
    "    \n",
    "\n",
    "    return cells_df"
   ]
  },
  {
   "cell_type": "code",
   "execution_count": 5,
   "metadata": {},
   "outputs": [],
   "source": [
    "cells_df = setting_cells_df_datatypes(pd.read_sql(query, cellsConn))"
   ]
  },
  {
   "cell_type": "code",
   "execution_count": 6,
   "metadata": {},
   "outputs": [],
   "source": [
    "cells_df['starttime']=cells_df['starttime'].astype(str)"
   ]
  },
  {
   "cell_type": "code",
   "execution_count": 7,
   "metadata": {},
   "outputs": [
    {
     "name": "stdout",
     "output_type": "stream",
     "text": [
      "<class 'pandas.core.frame.DataFrame'>\n",
      "RangeIndex: 129123 entries, 0 to 129122\n",
      "Data columns (total 11 columns):\n",
      "starttime           129123 non-null object\n",
      "did                 129123 non-null int64\n",
      "HSDPA Throughput    129123 non-null float64\n",
      "TCPload             129123 non-null float64\n",
      "Region              129122 non-null object\n",
      "Site_Name           129123 non-null object\n",
      "Cell_Name           129123 non-null object\n",
      "Latitude            125348 non-null float64\n",
      "Longitude           125348 non-null float64\n",
      "Azimuth             125348 non-null float64\n",
      "BAND                126721 non-null object\n",
      "dtypes: float64(5), int64(1), object(5)\n",
      "memory usage: 10.8+ MB\n"
     ]
    }
   ],
   "source": [
    "cells_df.info()"
   ]
  },
  {
   "cell_type": "code",
   "execution_count": 8,
   "metadata": {},
   "outputs": [
    {
     "data": {
      "text/plain": [
       "(129123, 11)"
      ]
     },
     "execution_count": 8,
     "metadata": {},
     "output_type": "execute_result"
    }
   ],
   "source": [
    "cells_df.shape"
   ]
  },
  {
   "cell_type": "code",
   "execution_count": 9,
   "metadata": {},
   "outputs": [],
   "source": [
    "#cells_df.Main_Frequency = cells_df.Main_Frequency.fillna(null_integer)#.astype(int)"
   ]
  },
  {
   "cell_type": "code",
   "execution_count": 10,
   "metadata": {
    "scrolled": true
   },
   "outputs": [],
   "source": [
    "#cells_df.Main_Frequency=cells_df.Main_Frequency.astype(float)"
   ]
  },
  {
   "cell_type": "markdown",
   "metadata": {},
   "source": [
    "#### Creating Shapely Polygons"
   ]
  },
  {
   "cell_type": "code",
   "execution_count": 11,
   "metadata": {},
   "outputs": [],
   "source": [
    "technology_bands = ['LTE800','GSM900','U900-C1', 'U900-C2','GSM1800','LTE1800', 'U2100-C1', 'U2100-C2']  # sorted(list(self.cells.BAND.unique()))  # several bands (8)\n",
    "technology_list = ['GSM', 'LTE', 'UMTS']  # sorted(list(self.cells.TECHNOLOGY.unique()))  # 3 items\n",
    "radius_list = [200, 190, 180, 170, 110, 100, 80, 70]\n",
    "\n",
    "\n",
    "def get_radius_tech_color(band):\n",
    "    '''\n",
    "        Takes the band of a site or cell and returns the color style, the radius of the cone and the folder\n",
    "    :param band:\n",
    "    :return:\n",
    "    '''\n",
    "\n",
    "    try:\n",
    "        tech_index = technology_bands.index(band)\n",
    "        radius = radius_list[tech_index]\n",
    "    except:\n",
    "        tech_index = 2  #TODO Refine this: Tech is most probably UMTS\n",
    "        radius = 0  # We Ignore Radius\n",
    "\n",
    "\n",
    "    folder_index = 0\n",
    "    if tech_index==1 or tech_index==4:  # Getting the folder index for the kml file being generated\n",
    "        folder_index = 0\n",
    "    elif tech_index==0 or tech_index==5 :\n",
    "        folder_index = 1\n",
    "    else:\n",
    "        folder_index = 2\n",
    "\n",
    "    return radius, folder_index"
   ]
  },
  {
   "cell_type": "code",
   "execution_count": 12,
   "metadata": {},
   "outputs": [
    {
     "name": "stdout",
     "output_type": "stream",
     "text": [
      "273.91165947914124\n"
     ]
    }
   ],
   "source": [
    "cells_df = cells_df.loc[~pd.isnull(cells_df.Latitude)]\n",
    "cells_df = cells_df.loc[~pd.isnull(cells_df.Longitude)]\n",
    "cells_df['SITE_LONGITUDE_LATITUDE'] = list(zip(cells_df.Longitude, cells_df.Latitude))\n",
    "cells_df['Radius_Tech'] = [get_radius_tech_color(band) for band in cells_df['BAND']]#List comprehension\n",
    "cells_df['Cell_degrees']=np.degrees(np.radians(90)-np.radians(cells_df['Azimuth']))\n",
    "\n",
    "# Shapely Point for the Site Location\n",
    "# point_polygons = [Point(site_lat_long) for site_lat_long in cells_df['SITE_LATITUDE_LONGITUDE']]\n",
    "\n",
    "# Shapely Pie for Individual Cells\n",
    "start = time()\n",
    "# Removing the reversal of the coords coz I'm not using SimpleKml [::-1]\n",
    "pie_polygons = [Polygon([longitude_latitude] + \n",
    "                        [tuple(\n",
    "                            geodesic(meters=polygon_tech[0]).destination(point=longitude_latitude, bearing=bearing))[:-1] #geodesic function returns(lon,lat,alt)\n",
    "                         for bearing in\n",
    "     np.arange(Cell_degrees-30, Cell_degrees+30, 6)] \n",
    "                        + [longitude_latitude]) \n",
    "                for (longitude_latitude, polygon_tech, Cell_degrees) in cells_df[['SITE_LONGITUDE_LATITUDE', 'Radius_Tech', 'Cell_degrees']].values]\n",
    "\n",
    "print(time() - start)\n",
    "# Polygon()"
   ]
  },
  {
   "cell_type": "code",
   "execution_count": 13,
   "metadata": {},
   "outputs": [
    {
     "data": {
      "text/html": [
       "<div>\n",
       "<style scoped>\n",
       "    .dataframe tbody tr th:only-of-type {\n",
       "        vertical-align: middle;\n",
       "    }\n",
       "\n",
       "    .dataframe tbody tr th {\n",
       "        vertical-align: top;\n",
       "    }\n",
       "\n",
       "    .dataframe thead th {\n",
       "        text-align: right;\n",
       "    }\n",
       "</style>\n",
       "<table border=\"1\" class=\"dataframe\">\n",
       "  <thead>\n",
       "    <tr style=\"text-align: right;\">\n",
       "      <th></th>\n",
       "      <th>starttime</th>\n",
       "      <th>did</th>\n",
       "      <th>HSDPA Throughput</th>\n",
       "      <th>TCPload</th>\n",
       "      <th>Region</th>\n",
       "      <th>Site_Name</th>\n",
       "      <th>Cell_Name</th>\n",
       "      <th>Latitude</th>\n",
       "      <th>Longitude</th>\n",
       "      <th>Azimuth</th>\n",
       "      <th>BAND</th>\n",
       "      <th>SITE_LONGITUDE_LATITUDE</th>\n",
       "      <th>Radius_Tech</th>\n",
       "      <th>Cell_degrees</th>\n",
       "    </tr>\n",
       "  </thead>\n",
       "  <tbody>\n",
       "    <tr>\n",
       "      <td>0</td>\n",
       "      <td>2020-02-12 01:00:00</td>\n",
       "      <td>34690</td>\n",
       "      <td>254.108002</td>\n",
       "      <td>21.150811</td>\n",
       "      <td>NAIROBI WEST</td>\n",
       "      <td>14713_NW_NI2425-Rose_Avenue_OUTH_MRT</td>\n",
       "      <td>14713_NW_NI4425-Rose_Avenue_OUTH_U900-4</td>\n",
       "      <td>-1.29389</td>\n",
       "      <td>36.795700</td>\n",
       "      <td>140.0</td>\n",
       "      <td>U900-C2</td>\n",
       "      <td>(36.79570007324219, -1.2938899993896484)</td>\n",
       "      <td>(170, 2)</td>\n",
       "      <td>-50.0</td>\n",
       "    </tr>\n",
       "    <tr>\n",
       "      <td>1</td>\n",
       "      <td>2020-02-12 11:00:00</td>\n",
       "      <td>34690</td>\n",
       "      <td>367.656982</td>\n",
       "      <td>50.836575</td>\n",
       "      <td>NAIROBI WEST</td>\n",
       "      <td>14713_NW_NI2425-Rose_Avenue_OUTH_MRT</td>\n",
       "      <td>14713_NW_NI4425-Rose_Avenue_OUTH_U900-4</td>\n",
       "      <td>-1.29389</td>\n",
       "      <td>36.795700</td>\n",
       "      <td>140.0</td>\n",
       "      <td>U900-C2</td>\n",
       "      <td>(36.79570007324219, -1.2938899993896484)</td>\n",
       "      <td>(170, 2)</td>\n",
       "      <td>-50.0</td>\n",
       "    </tr>\n",
       "    <tr>\n",
       "      <td>2</td>\n",
       "      <td>2020-02-11 03:00:00</td>\n",
       "      <td>68914</td>\n",
       "      <td>349.995483</td>\n",
       "      <td>17.817500</td>\n",
       "      <td>NAIROBI EAST</td>\n",
       "      <td>14774_NE_NI4532-Nyayo_Stadium_OUTE_MGF</td>\n",
       "      <td>14774_NE_NI4532-Nyayo_Stadium_OUTH_U900-0</td>\n",
       "      <td>-1.30341</td>\n",
       "      <td>36.825401</td>\n",
       "      <td>10.0</td>\n",
       "      <td>U900-C1</td>\n",
       "      <td>(36.825401306152344, -1.3034100532531738)</td>\n",
       "      <td>(180, 2)</td>\n",
       "      <td>80.0</td>\n",
       "    </tr>\n",
       "    <tr>\n",
       "      <td>3</td>\n",
       "      <td>2020-02-11 00:00:00</td>\n",
       "      <td>68914</td>\n",
       "      <td>363.704498</td>\n",
       "      <td>19.321565</td>\n",
       "      <td>NAIROBI EAST</td>\n",
       "      <td>14774_NE_NI4532-Nyayo_Stadium_OUTE_MGF</td>\n",
       "      <td>14774_NE_NI4532-Nyayo_Stadium_OUTH_U900-0</td>\n",
       "      <td>-1.30341</td>\n",
       "      <td>36.825401</td>\n",
       "      <td>10.0</td>\n",
       "      <td>U900-C1</td>\n",
       "      <td>(36.825401306152344, -1.3034100532531738)</td>\n",
       "      <td>(180, 2)</td>\n",
       "      <td>80.0</td>\n",
       "    </tr>\n",
       "    <tr>\n",
       "      <td>4</td>\n",
       "      <td>2020-02-11 01:00:00</td>\n",
       "      <td>68914</td>\n",
       "      <td>199.235992</td>\n",
       "      <td>18.317177</td>\n",
       "      <td>NAIROBI EAST</td>\n",
       "      <td>14774_NE_NI4532-Nyayo_Stadium_OUTE_MGF</td>\n",
       "      <td>14774_NE_NI4532-Nyayo_Stadium_OUTH_U900-0</td>\n",
       "      <td>-1.30341</td>\n",
       "      <td>36.825401</td>\n",
       "      <td>10.0</td>\n",
       "      <td>U900-C1</td>\n",
       "      <td>(36.825401306152344, -1.3034100532531738)</td>\n",
       "      <td>(180, 2)</td>\n",
       "      <td>80.0</td>\n",
       "    </tr>\n",
       "  </tbody>\n",
       "</table>\n",
       "</div>"
      ],
      "text/plain": [
       "             starttime    did  HSDPA Throughput    TCPload        Region  \\\n",
       "0  2020-02-12 01:00:00  34690        254.108002  21.150811  NAIROBI WEST   \n",
       "1  2020-02-12 11:00:00  34690        367.656982  50.836575  NAIROBI WEST   \n",
       "2  2020-02-11 03:00:00  68914        349.995483  17.817500  NAIROBI EAST   \n",
       "3  2020-02-11 00:00:00  68914        363.704498  19.321565  NAIROBI EAST   \n",
       "4  2020-02-11 01:00:00  68914        199.235992  18.317177  NAIROBI EAST   \n",
       "\n",
       "                                Site_Name  \\\n",
       "0    14713_NW_NI2425-Rose_Avenue_OUTH_MRT   \n",
       "1    14713_NW_NI2425-Rose_Avenue_OUTH_MRT   \n",
       "2  14774_NE_NI4532-Nyayo_Stadium_OUTE_MGF   \n",
       "3  14774_NE_NI4532-Nyayo_Stadium_OUTE_MGF   \n",
       "4  14774_NE_NI4532-Nyayo_Stadium_OUTE_MGF   \n",
       "\n",
       "                                   Cell_Name  Latitude  Longitude  Azimuth  \\\n",
       "0    14713_NW_NI4425-Rose_Avenue_OUTH_U900-4  -1.29389  36.795700    140.0   \n",
       "1    14713_NW_NI4425-Rose_Avenue_OUTH_U900-4  -1.29389  36.795700    140.0   \n",
       "2  14774_NE_NI4532-Nyayo_Stadium_OUTH_U900-0  -1.30341  36.825401     10.0   \n",
       "3  14774_NE_NI4532-Nyayo_Stadium_OUTH_U900-0  -1.30341  36.825401     10.0   \n",
       "4  14774_NE_NI4532-Nyayo_Stadium_OUTH_U900-0  -1.30341  36.825401     10.0   \n",
       "\n",
       "      BAND                    SITE_LONGITUDE_LATITUDE Radius_Tech  \\\n",
       "0  U900-C2   (36.79570007324219, -1.2938899993896484)    (170, 2)   \n",
       "1  U900-C2   (36.79570007324219, -1.2938899993896484)    (170, 2)   \n",
       "2  U900-C1  (36.825401306152344, -1.3034100532531738)    (180, 2)   \n",
       "3  U900-C1  (36.825401306152344, -1.3034100532531738)    (180, 2)   \n",
       "4  U900-C1  (36.825401306152344, -1.3034100532531738)    (180, 2)   \n",
       "\n",
       "   Cell_degrees  \n",
       "0         -50.0  \n",
       "1         -50.0  \n",
       "2          80.0  \n",
       "3          80.0  \n",
       "4          80.0  "
      ]
     },
     "execution_count": 13,
     "metadata": {},
     "output_type": "execute_result"
    }
   ],
   "source": [
    "cells_df.head()"
   ]
  },
  {
   "cell_type": "markdown",
   "metadata": {},
   "source": [
    "#### Creating the GeoPandas Dataframe"
   ]
  },
  {
   "cell_type": "code",
   "execution_count": 14,
   "metadata": {},
   "outputs": [],
   "source": [
    "gpd_cells = gpd.GeoDataFrame(cells_df, geometry=pie_polygons)\n",
    "gpd_cells.crs = {'init':'epsg:4326'}"
   ]
  },
  {
   "cell_type": "code",
   "execution_count": 15,
   "metadata": {},
   "outputs": [],
   "source": [
    "gpd_cells['HSDPA Throughput'].fillna(0, inplace=True)\n",
    "gpd_cells['TCPload'].fillna(0, inplace=True)"
   ]
  },
  {
   "cell_type": "code",
   "execution_count": 16,
   "metadata": {},
   "outputs": [
    {
     "data": {
      "text/html": [
       "<div>\n",
       "<style scoped>\n",
       "    .dataframe tbody tr th:only-of-type {\n",
       "        vertical-align: middle;\n",
       "    }\n",
       "\n",
       "    .dataframe tbody tr th {\n",
       "        vertical-align: top;\n",
       "    }\n",
       "\n",
       "    .dataframe thead th {\n",
       "        text-align: right;\n",
       "    }\n",
       "</style>\n",
       "<table border=\"1\" class=\"dataframe\">\n",
       "  <thead>\n",
       "    <tr style=\"text-align: right;\">\n",
       "      <th></th>\n",
       "      <th>starttime</th>\n",
       "      <th>did</th>\n",
       "      <th>HSDPA Throughput</th>\n",
       "      <th>TCPload</th>\n",
       "      <th>Region</th>\n",
       "      <th>Site_Name</th>\n",
       "      <th>Cell_Name</th>\n",
       "      <th>Latitude</th>\n",
       "      <th>Longitude</th>\n",
       "      <th>Azimuth</th>\n",
       "      <th>BAND</th>\n",
       "      <th>SITE_LONGITUDE_LATITUDE</th>\n",
       "      <th>Radius_Tech</th>\n",
       "      <th>Cell_degrees</th>\n",
       "      <th>geometry</th>\n",
       "    </tr>\n",
       "  </thead>\n",
       "  <tbody>\n",
       "    <tr>\n",
       "      <td>0</td>\n",
       "      <td>2020-02-12 01:00:00</td>\n",
       "      <td>34690</td>\n",
       "      <td>254.108002</td>\n",
       "      <td>21.150811</td>\n",
       "      <td>NAIROBI WEST</td>\n",
       "      <td>14713_NW_NI2425-Rose_Avenue_OUTH_MRT</td>\n",
       "      <td>14713_NW_NI4425-Rose_Avenue_OUTH_U900-4</td>\n",
       "      <td>-1.29389</td>\n",
       "      <td>36.795700</td>\n",
       "      <td>140.0</td>\n",
       "      <td>U900-C2</td>\n",
       "      <td>(36.79570007324219, -1.2938899993896484)</td>\n",
       "      <td>(170, 2)</td>\n",
       "      <td>-50.0</td>\n",
       "      <td>POLYGON ((36.79570 -1.29389, 36.79597 -1.29577...</td>\n",
       "    </tr>\n",
       "    <tr>\n",
       "      <td>1</td>\n",
       "      <td>2020-02-12 11:00:00</td>\n",
       "      <td>34690</td>\n",
       "      <td>367.656982</td>\n",
       "      <td>50.836575</td>\n",
       "      <td>NAIROBI WEST</td>\n",
       "      <td>14713_NW_NI2425-Rose_Avenue_OUTH_MRT</td>\n",
       "      <td>14713_NW_NI4425-Rose_Avenue_OUTH_U900-4</td>\n",
       "      <td>-1.29389</td>\n",
       "      <td>36.795700</td>\n",
       "      <td>140.0</td>\n",
       "      <td>U900-C2</td>\n",
       "      <td>(36.79570007324219, -1.2938899993896484)</td>\n",
       "      <td>(170, 2)</td>\n",
       "      <td>-50.0</td>\n",
       "      <td>POLYGON ((36.79570 -1.29389, 36.79597 -1.29577...</td>\n",
       "    </tr>\n",
       "    <tr>\n",
       "      <td>2</td>\n",
       "      <td>2020-02-11 03:00:00</td>\n",
       "      <td>68914</td>\n",
       "      <td>349.995483</td>\n",
       "      <td>17.817500</td>\n",
       "      <td>NAIROBI EAST</td>\n",
       "      <td>14774_NE_NI4532-Nyayo_Stadium_OUTE_MGF</td>\n",
       "      <td>14774_NE_NI4532-Nyayo_Stadium_OUTH_U900-0</td>\n",
       "      <td>-1.30341</td>\n",
       "      <td>36.825401</td>\n",
       "      <td>10.0</td>\n",
       "      <td>U900-C1</td>\n",
       "      <td>(36.825401306152344, -1.3034100532531738)</td>\n",
       "      <td>(180, 2)</td>\n",
       "      <td>80.0</td>\n",
       "      <td>POLYGON ((36.82540 -1.30341, 36.82644 -1.30186...</td>\n",
       "    </tr>\n",
       "    <tr>\n",
       "      <td>3</td>\n",
       "      <td>2020-02-11 00:00:00</td>\n",
       "      <td>68914</td>\n",
       "      <td>363.704498</td>\n",
       "      <td>19.321565</td>\n",
       "      <td>NAIROBI EAST</td>\n",
       "      <td>14774_NE_NI4532-Nyayo_Stadium_OUTE_MGF</td>\n",
       "      <td>14774_NE_NI4532-Nyayo_Stadium_OUTH_U900-0</td>\n",
       "      <td>-1.30341</td>\n",
       "      <td>36.825401</td>\n",
       "      <td>10.0</td>\n",
       "      <td>U900-C1</td>\n",
       "      <td>(36.825401306152344, -1.3034100532531738)</td>\n",
       "      <td>(180, 2)</td>\n",
       "      <td>80.0</td>\n",
       "      <td>POLYGON ((36.82540 -1.30341, 36.82644 -1.30186...</td>\n",
       "    </tr>\n",
       "    <tr>\n",
       "      <td>4</td>\n",
       "      <td>2020-02-11 01:00:00</td>\n",
       "      <td>68914</td>\n",
       "      <td>199.235992</td>\n",
       "      <td>18.317177</td>\n",
       "      <td>NAIROBI EAST</td>\n",
       "      <td>14774_NE_NI4532-Nyayo_Stadium_OUTE_MGF</td>\n",
       "      <td>14774_NE_NI4532-Nyayo_Stadium_OUTH_U900-0</td>\n",
       "      <td>-1.30341</td>\n",
       "      <td>36.825401</td>\n",
       "      <td>10.0</td>\n",
       "      <td>U900-C1</td>\n",
       "      <td>(36.825401306152344, -1.3034100532531738)</td>\n",
       "      <td>(180, 2)</td>\n",
       "      <td>80.0</td>\n",
       "      <td>POLYGON ((36.82540 -1.30341, 36.82644 -1.30186...</td>\n",
       "    </tr>\n",
       "  </tbody>\n",
       "</table>\n",
       "</div>"
      ],
      "text/plain": [
       "             starttime    did  HSDPA Throughput    TCPload        Region  \\\n",
       "0  2020-02-12 01:00:00  34690        254.108002  21.150811  NAIROBI WEST   \n",
       "1  2020-02-12 11:00:00  34690        367.656982  50.836575  NAIROBI WEST   \n",
       "2  2020-02-11 03:00:00  68914        349.995483  17.817500  NAIROBI EAST   \n",
       "3  2020-02-11 00:00:00  68914        363.704498  19.321565  NAIROBI EAST   \n",
       "4  2020-02-11 01:00:00  68914        199.235992  18.317177  NAIROBI EAST   \n",
       "\n",
       "                                Site_Name  \\\n",
       "0    14713_NW_NI2425-Rose_Avenue_OUTH_MRT   \n",
       "1    14713_NW_NI2425-Rose_Avenue_OUTH_MRT   \n",
       "2  14774_NE_NI4532-Nyayo_Stadium_OUTE_MGF   \n",
       "3  14774_NE_NI4532-Nyayo_Stadium_OUTE_MGF   \n",
       "4  14774_NE_NI4532-Nyayo_Stadium_OUTE_MGF   \n",
       "\n",
       "                                   Cell_Name  Latitude  Longitude  Azimuth  \\\n",
       "0    14713_NW_NI4425-Rose_Avenue_OUTH_U900-4  -1.29389  36.795700    140.0   \n",
       "1    14713_NW_NI4425-Rose_Avenue_OUTH_U900-4  -1.29389  36.795700    140.0   \n",
       "2  14774_NE_NI4532-Nyayo_Stadium_OUTH_U900-0  -1.30341  36.825401     10.0   \n",
       "3  14774_NE_NI4532-Nyayo_Stadium_OUTH_U900-0  -1.30341  36.825401     10.0   \n",
       "4  14774_NE_NI4532-Nyayo_Stadium_OUTH_U900-0  -1.30341  36.825401     10.0   \n",
       "\n",
       "      BAND                    SITE_LONGITUDE_LATITUDE Radius_Tech  \\\n",
       "0  U900-C2   (36.79570007324219, -1.2938899993896484)    (170, 2)   \n",
       "1  U900-C2   (36.79570007324219, -1.2938899993896484)    (170, 2)   \n",
       "2  U900-C1  (36.825401306152344, -1.3034100532531738)    (180, 2)   \n",
       "3  U900-C1  (36.825401306152344, -1.3034100532531738)    (180, 2)   \n",
       "4  U900-C1  (36.825401306152344, -1.3034100532531738)    (180, 2)   \n",
       "\n",
       "   Cell_degrees                                           geometry  \n",
       "0         -50.0  POLYGON ((36.79570 -1.29389, 36.79597 -1.29577...  \n",
       "1         -50.0  POLYGON ((36.79570 -1.29389, 36.79597 -1.29577...  \n",
       "2          80.0  POLYGON ((36.82540 -1.30341, 36.82644 -1.30186...  \n",
       "3          80.0  POLYGON ((36.82540 -1.30341, 36.82644 -1.30186...  \n",
       "4          80.0  POLYGON ((36.82540 -1.30341, 36.82644 -1.30186...  "
      ]
     },
     "execution_count": 16,
     "metadata": {},
     "output_type": "execute_result"
    }
   ],
   "source": [
    "gpd_cells.head()"
   ]
  },
  {
   "cell_type": "code",
   "execution_count": 17,
   "metadata": {},
   "outputs": [],
   "source": [
    "# Pickling the pickle file\n",
    "with open(\"D:\\\\Python scripts\\\\pickled\\\\filtered_UMTS_data.pkl\", \"wb\") as fp:   #Pickling\n",
    "    pickle.dump(gpd_cells, fp)"
   ]
  },
  {
   "cell_type": "code",
   "execution_count": 18,
   "metadata": {},
   "outputs": [],
   "source": [
    "#Unpickling the pickle file\n",
    "with open(\"D:\\\\Python scripts\\\\pickled\\\\filtered_UMTS_data.pkl\", \"rb\") as fp:   # Unpickling\n",
    "      gpd_cells = pickle.load(fp)"
   ]
  },
  {
   "cell_type": "code",
   "execution_count": 19,
   "metadata": {},
   "outputs": [
    {
     "data": {
      "text/html": [
       "<div>\n",
       "<style scoped>\n",
       "    .dataframe tbody tr th:only-of-type {\n",
       "        vertical-align: middle;\n",
       "    }\n",
       "\n",
       "    .dataframe tbody tr th {\n",
       "        vertical-align: top;\n",
       "    }\n",
       "\n",
       "    .dataframe thead th {\n",
       "        text-align: right;\n",
       "    }\n",
       "</style>\n",
       "<table border=\"1\" class=\"dataframe\">\n",
       "  <thead>\n",
       "    <tr style=\"text-align: right;\">\n",
       "      <th></th>\n",
       "      <th>starttime</th>\n",
       "      <th>did</th>\n",
       "      <th>HSDPA Throughput</th>\n",
       "      <th>TCPload</th>\n",
       "      <th>Region</th>\n",
       "      <th>Site_Name</th>\n",
       "      <th>Cell_Name</th>\n",
       "      <th>Latitude</th>\n",
       "      <th>Longitude</th>\n",
       "      <th>Azimuth</th>\n",
       "      <th>BAND</th>\n",
       "      <th>SITE_LONGITUDE_LATITUDE</th>\n",
       "      <th>Radius_Tech</th>\n",
       "      <th>Cell_degrees</th>\n",
       "      <th>geometry</th>\n",
       "    </tr>\n",
       "  </thead>\n",
       "  <tbody>\n",
       "    <tr>\n",
       "      <td>0</td>\n",
       "      <td>2020-02-12 01:00:00</td>\n",
       "      <td>34690</td>\n",
       "      <td>254.108002</td>\n",
       "      <td>21.150811</td>\n",
       "      <td>NAIROBI WEST</td>\n",
       "      <td>14713_NW_NI2425-Rose_Avenue_OUTH_MRT</td>\n",
       "      <td>14713_NW_NI4425-Rose_Avenue_OUTH_U900-4</td>\n",
       "      <td>-1.29389</td>\n",
       "      <td>36.795700</td>\n",
       "      <td>140.0</td>\n",
       "      <td>U900-C2</td>\n",
       "      <td>(36.79570007324219, -1.2938899993896484)</td>\n",
       "      <td>(170, 2)</td>\n",
       "      <td>-50.0</td>\n",
       "      <td>POLYGON ((36.79570 -1.29389, 36.79597 -1.29577...</td>\n",
       "    </tr>\n",
       "    <tr>\n",
       "      <td>1</td>\n",
       "      <td>2020-02-12 11:00:00</td>\n",
       "      <td>34690</td>\n",
       "      <td>367.656982</td>\n",
       "      <td>50.836575</td>\n",
       "      <td>NAIROBI WEST</td>\n",
       "      <td>14713_NW_NI2425-Rose_Avenue_OUTH_MRT</td>\n",
       "      <td>14713_NW_NI4425-Rose_Avenue_OUTH_U900-4</td>\n",
       "      <td>-1.29389</td>\n",
       "      <td>36.795700</td>\n",
       "      <td>140.0</td>\n",
       "      <td>U900-C2</td>\n",
       "      <td>(36.79570007324219, -1.2938899993896484)</td>\n",
       "      <td>(170, 2)</td>\n",
       "      <td>-50.0</td>\n",
       "      <td>POLYGON ((36.79570 -1.29389, 36.79597 -1.29577...</td>\n",
       "    </tr>\n",
       "    <tr>\n",
       "      <td>2</td>\n",
       "      <td>2020-02-11 03:00:00</td>\n",
       "      <td>68914</td>\n",
       "      <td>349.995483</td>\n",
       "      <td>17.817500</td>\n",
       "      <td>NAIROBI EAST</td>\n",
       "      <td>14774_NE_NI4532-Nyayo_Stadium_OUTE_MGF</td>\n",
       "      <td>14774_NE_NI4532-Nyayo_Stadium_OUTH_U900-0</td>\n",
       "      <td>-1.30341</td>\n",
       "      <td>36.825401</td>\n",
       "      <td>10.0</td>\n",
       "      <td>U900-C1</td>\n",
       "      <td>(36.825401306152344, -1.3034100532531738)</td>\n",
       "      <td>(180, 2)</td>\n",
       "      <td>80.0</td>\n",
       "      <td>POLYGON ((36.82540 -1.30341, 36.82644 -1.30186...</td>\n",
       "    </tr>\n",
       "    <tr>\n",
       "      <td>3</td>\n",
       "      <td>2020-02-11 00:00:00</td>\n",
       "      <td>68914</td>\n",
       "      <td>363.704498</td>\n",
       "      <td>19.321565</td>\n",
       "      <td>NAIROBI EAST</td>\n",
       "      <td>14774_NE_NI4532-Nyayo_Stadium_OUTE_MGF</td>\n",
       "      <td>14774_NE_NI4532-Nyayo_Stadium_OUTH_U900-0</td>\n",
       "      <td>-1.30341</td>\n",
       "      <td>36.825401</td>\n",
       "      <td>10.0</td>\n",
       "      <td>U900-C1</td>\n",
       "      <td>(36.825401306152344, -1.3034100532531738)</td>\n",
       "      <td>(180, 2)</td>\n",
       "      <td>80.0</td>\n",
       "      <td>POLYGON ((36.82540 -1.30341, 36.82644 -1.30186...</td>\n",
       "    </tr>\n",
       "    <tr>\n",
       "      <td>4</td>\n",
       "      <td>2020-02-11 01:00:00</td>\n",
       "      <td>68914</td>\n",
       "      <td>199.235992</td>\n",
       "      <td>18.317177</td>\n",
       "      <td>NAIROBI EAST</td>\n",
       "      <td>14774_NE_NI4532-Nyayo_Stadium_OUTE_MGF</td>\n",
       "      <td>14774_NE_NI4532-Nyayo_Stadium_OUTH_U900-0</td>\n",
       "      <td>-1.30341</td>\n",
       "      <td>36.825401</td>\n",
       "      <td>10.0</td>\n",
       "      <td>U900-C1</td>\n",
       "      <td>(36.825401306152344, -1.3034100532531738)</td>\n",
       "      <td>(180, 2)</td>\n",
       "      <td>80.0</td>\n",
       "      <td>POLYGON ((36.82540 -1.30341, 36.82644 -1.30186...</td>\n",
       "    </tr>\n",
       "  </tbody>\n",
       "</table>\n",
       "</div>"
      ],
      "text/plain": [
       "             starttime    did  HSDPA Throughput    TCPload        Region  \\\n",
       "0  2020-02-12 01:00:00  34690        254.108002  21.150811  NAIROBI WEST   \n",
       "1  2020-02-12 11:00:00  34690        367.656982  50.836575  NAIROBI WEST   \n",
       "2  2020-02-11 03:00:00  68914        349.995483  17.817500  NAIROBI EAST   \n",
       "3  2020-02-11 00:00:00  68914        363.704498  19.321565  NAIROBI EAST   \n",
       "4  2020-02-11 01:00:00  68914        199.235992  18.317177  NAIROBI EAST   \n",
       "\n",
       "                                Site_Name  \\\n",
       "0    14713_NW_NI2425-Rose_Avenue_OUTH_MRT   \n",
       "1    14713_NW_NI2425-Rose_Avenue_OUTH_MRT   \n",
       "2  14774_NE_NI4532-Nyayo_Stadium_OUTE_MGF   \n",
       "3  14774_NE_NI4532-Nyayo_Stadium_OUTE_MGF   \n",
       "4  14774_NE_NI4532-Nyayo_Stadium_OUTE_MGF   \n",
       "\n",
       "                                   Cell_Name  Latitude  Longitude  Azimuth  \\\n",
       "0    14713_NW_NI4425-Rose_Avenue_OUTH_U900-4  -1.29389  36.795700    140.0   \n",
       "1    14713_NW_NI4425-Rose_Avenue_OUTH_U900-4  -1.29389  36.795700    140.0   \n",
       "2  14774_NE_NI4532-Nyayo_Stadium_OUTH_U900-0  -1.30341  36.825401     10.0   \n",
       "3  14774_NE_NI4532-Nyayo_Stadium_OUTH_U900-0  -1.30341  36.825401     10.0   \n",
       "4  14774_NE_NI4532-Nyayo_Stadium_OUTH_U900-0  -1.30341  36.825401     10.0   \n",
       "\n",
       "      BAND                    SITE_LONGITUDE_LATITUDE Radius_Tech  \\\n",
       "0  U900-C2   (36.79570007324219, -1.2938899993896484)    (170, 2)   \n",
       "1  U900-C2   (36.79570007324219, -1.2938899993896484)    (170, 2)   \n",
       "2  U900-C1  (36.825401306152344, -1.3034100532531738)    (180, 2)   \n",
       "3  U900-C1  (36.825401306152344, -1.3034100532531738)    (180, 2)   \n",
       "4  U900-C1  (36.825401306152344, -1.3034100532531738)    (180, 2)   \n",
       "\n",
       "   Cell_degrees                                           geometry  \n",
       "0         -50.0  POLYGON ((36.79570 -1.29389, 36.79597 -1.29577...  \n",
       "1         -50.0  POLYGON ((36.79570 -1.29389, 36.79597 -1.29577...  \n",
       "2          80.0  POLYGON ((36.82540 -1.30341, 36.82644 -1.30186...  \n",
       "3          80.0  POLYGON ((36.82540 -1.30341, 36.82644 -1.30186...  \n",
       "4          80.0  POLYGON ((36.82540 -1.30341, 36.82644 -1.30186...  "
      ]
     },
     "execution_count": 19,
     "metadata": {},
     "output_type": "execute_result"
    }
   ],
   "source": [
    "gpd_cells.head()"
   ]
  },
  {
   "cell_type": "code",
   "execution_count": 20,
   "metadata": {},
   "outputs": [],
   "source": [
    "gpd_cells=gpd_cells.head(50000)"
   ]
  },
  {
   "cell_type": "markdown",
   "metadata": {},
   "source": [
    "####  Mapping Cells with Kepler.gl"
   ]
  },
  {
   "cell_type": "code",
   "execution_count": 21,
   "metadata": {},
   "outputs": [
    {
     "name": "stdout",
     "output_type": "stream",
     "text": [
      "User Guide: https://github.com/keplergl/kepler.gl/blob/master/docs/keplergl-jupyter/user-guide.md\n"
     ]
    }
   ],
   "source": [
    "cell_map = KeplerGl(height=800)"
   ]
  },
  {
   "cell_type": "code",
   "execution_count": 22,
   "metadata": {},
   "outputs": [],
   "source": [
    "cell_map.add_data(data=gpd_cells, name=\"Saf_Cells\")"
   ]
  },
  {
   "cell_type": "code",
   "execution_count": 23,
   "metadata": {},
   "outputs": [
    {
     "data": {
      "application/vnd.jupyter.widget-view+json": {
       "model_id": "3db389650c3d4182b2973f971d894437",
       "version_major": 2,
       "version_minor": 0
      },
      "text/plain": [
       "KeplerGl(data={'Saf_Cells': {'index': [0, 1, 2, 3, 4, 5, 6, 7, 8, 9, 10, 11, 12, 13, 14, 15, 16, 17, 18, 19, 2…"
      ]
     },
     "metadata": {},
     "output_type": "display_data"
    }
   ],
   "source": [
    "cell_map"
   ]
  },
  {
   "cell_type": "code",
   "execution_count": 24,
   "metadata": {},
   "outputs": [],
   "source": [
    "config=cell_map.config"
   ]
  },
  {
   "cell_type": "code",
   "execution_count": 25,
   "metadata": {},
   "outputs": [],
   "source": [
    "# Pickling the pickle file\n",
    "with open(\"D:\\\\Python scripts\\\\pickled\\\\filtered_UMTS_map.pkl\", \"wb\") as fp:   #Pickling\n",
    "    pickle.dump(config, fp)"
   ]
  },
  {
   "cell_type": "code",
   "execution_count": 26,
   "metadata": {},
   "outputs": [],
   "source": [
    "#Unpickling the pickle file\n",
    "with open(\"D:\\\\Python scripts\\\\pickled\\\\filtered_UMTS_map.pkl\", \"rb\") as fp:   # Unpickling\n",
    "      config = pickle.load(fp)\n",
    "#fp.close()"
   ]
  },
  {
   "cell_type": "code",
   "execution_count": 27,
   "metadata": {},
   "outputs": [
    {
     "name": "stdout",
     "output_type": "stream",
     "text": [
      "Map saved to 3G_map.html!\n"
     ]
    }
   ],
   "source": [
    "#cell_map.save_to_html(file_name=\"cell_map3G.html\")\n",
    "# this will save map with provided data and config\n",
    "cell_map.save_to_html(config=config, file_name='3G_map.html')"
   ]
  },
  {
   "cell_type": "code",
   "execution_count": 28,
   "metadata": {},
   "outputs": [
    {
     "name": "stdout",
     "output_type": "stream",
     "text": [
      "User Guide: https://github.com/keplergl/kepler.gl/blob/master/docs/keplergl-jupyter/user-guide.md\n"
     ]
    }
   ],
   "source": [
    "cell_map = KeplerGl(height=800,config=config)"
   ]
  },
  {
   "cell_type": "code",
   "execution_count": 29,
   "metadata": {},
   "outputs": [
    {
     "data": {
      "application/vnd.jupyter.widget-view+json": {
       "model_id": "5a3a278f70644471b045c26dfeb91c64",
       "version_major": 2,
       "version_minor": 0
      },
      "text/plain": [
       "KeplerGl(height=800)"
      ]
     },
     "metadata": {},
     "output_type": "display_data"
    }
   ],
   "source": [
    "cell_map"
   ]
  },
  {
   "cell_type": "code",
   "execution_count": 30,
   "metadata": {},
   "outputs": [],
   "source": [
    "cell_map.add_data(data=gpd_cells, name=\"Saf_Cells\")"
   ]
  },
  {
   "cell_type": "code",
   "execution_count": null,
   "metadata": {},
   "outputs": [],
   "source": []
  }
 ],
 "metadata": {
  "kernelspec": {
   "display_name": "Python 3",
   "language": "python",
   "name": "python3"
  },
  "language_info": {
   "codemirror_mode": {
    "name": "ipython",
    "version": 3
   },
   "file_extension": ".py",
   "mimetype": "text/x-python",
   "name": "python",
   "nbconvert_exporter": "python",
   "pygments_lexer": "ipython3",
   "version": "3.7.4"
  }
 },
 "nbformat": 4,
 "nbformat_minor": 4
}
