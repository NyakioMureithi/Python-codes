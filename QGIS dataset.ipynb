{
 "cells": [
  {
   "cell_type": "code",
   "execution_count": 25,
   "metadata": {},
   "outputs": [],
   "source": [
    "import pandas as pd"
   ]
  },
  {
   "cell_type": "code",
   "execution_count": 26,
   "metadata": {},
   "outputs": [],
   "source": [
    "df=pd.read_csv('C:\\\\Users\\\\mnmureithi\\\\Downloads\\\\bts for gis practicals.csv')"
   ]
  },
  {
   "cell_type": "code",
   "execution_count": 27,
   "metadata": {},
   "outputs": [
    {
     "data": {
      "text/html": [
       "<div>\n",
       "<style scoped>\n",
       "    .dataframe tbody tr th:only-of-type {\n",
       "        vertical-align: middle;\n",
       "    }\n",
       "\n",
       "    .dataframe tbody tr th {\n",
       "        vertical-align: top;\n",
       "    }\n",
       "\n",
       "    .dataframe thead th {\n",
       "        text-align: right;\n",
       "    }\n",
       "</style>\n",
       "<table border=\"1\" class=\"dataframe\">\n",
       "  <thead>\n",
       "    <tr style=\"text-align: right;\">\n",
       "      <th></th>\n",
       "      <th>Longitude</th>\n",
       "      <th>Latitude</th>\n",
       "      <th>BTSName</th>\n",
       "      <th>Classification</th>\n",
       "      <th>Technology</th>\n",
       "    </tr>\n",
       "  </thead>\n",
       "  <tbody>\n",
       "    <tr>\n",
       "      <th>0</th>\n",
       "      <td>40.168942</td>\n",
       "      <td>-1.694245</td>\n",
       "      <td>Masalani</td>\n",
       "      <td>Rural</td>\n",
       "      <td>GSM</td>\n",
       "    </tr>\n",
       "    <tr>\n",
       "      <th>1</th>\n",
       "      <td>40.168942</td>\n",
       "      <td>-1.694245</td>\n",
       "      <td>Masalani</td>\n",
       "      <td>Urban</td>\n",
       "      <td>UMTS</td>\n",
       "    </tr>\n",
       "    <tr>\n",
       "      <th>2</th>\n",
       "      <td>40.168942</td>\n",
       "      <td>-1.694245</td>\n",
       "      <td>Masalani</td>\n",
       "      <td>Rural</td>\n",
       "      <td>UMTS</td>\n",
       "    </tr>\n",
       "    <tr>\n",
       "      <th>3</th>\n",
       "      <td>40.270139</td>\n",
       "      <td>-1.643889</td>\n",
       "      <td>Masalani Quarry</td>\n",
       "      <td>Rural</td>\n",
       "      <td>GSM</td>\n",
       "    </tr>\n",
       "    <tr>\n",
       "      <th>4</th>\n",
       "      <td>40.538167</td>\n",
       "      <td>-1.568011</td>\n",
       "      <td>Ijara</td>\n",
       "      <td>Rural</td>\n",
       "      <td>GSM</td>\n",
       "    </tr>\n",
       "  </tbody>\n",
       "</table>\n",
       "</div>"
      ],
      "text/plain": [
       "   Longitude  Latitude          BTSName Classification Technology\n",
       "0  40.168942 -1.694245         Masalani          Rural        GSM\n",
       "1  40.168942 -1.694245         Masalani          Urban       UMTS\n",
       "2  40.168942 -1.694245         Masalani          Rural       UMTS\n",
       "3  40.270139 -1.643889  Masalani Quarry          Rural        GSM\n",
       "4  40.538167 -1.568011            Ijara          Rural        GSM"
      ]
     },
     "execution_count": 27,
     "metadata": {},
     "output_type": "execute_result"
    }
   ],
   "source": [
    "df.head()"
   ]
  },
  {
   "cell_type": "code",
   "execution_count": 28,
   "metadata": {},
   "outputs": [
    {
     "data": {
      "text/plain": [
       "(1452, 5)"
      ]
     },
     "execution_count": 28,
     "metadata": {},
     "output_type": "execute_result"
    }
   ],
   "source": [
    "df.shape"
   ]
  },
  {
   "cell_type": "code",
   "execution_count": 29,
   "metadata": {},
   "outputs": [],
   "source": [
    "df.drop_duplicates(subset=['Longitude','Latitude','Technology'],keep='first',inplace=True)"
   ]
  },
  {
   "cell_type": "code",
   "execution_count": 32,
   "metadata": {},
   "outputs": [
    {
     "data": {
      "text/html": [
       "<div>\n",
       "<style scoped>\n",
       "    .dataframe tbody tr th:only-of-type {\n",
       "        vertical-align: middle;\n",
       "    }\n",
       "\n",
       "    .dataframe tbody tr th {\n",
       "        vertical-align: top;\n",
       "    }\n",
       "\n",
       "    .dataframe thead th {\n",
       "        text-align: right;\n",
       "    }\n",
       "</style>\n",
       "<table border=\"1\" class=\"dataframe\">\n",
       "  <thead>\n",
       "    <tr style=\"text-align: right;\">\n",
       "      <th></th>\n",
       "      <th>Longitude</th>\n",
       "      <th>Latitude</th>\n",
       "      <th>BTSName</th>\n",
       "      <th>Classification</th>\n",
       "      <th>Technology</th>\n",
       "    </tr>\n",
       "  </thead>\n",
       "  <tbody>\n",
       "    <tr>\n",
       "      <th>819</th>\n",
       "      <td>37.094944</td>\n",
       "      <td>-0.356778</td>\n",
       "      <td>Iruri</td>\n",
       "      <td>Rural</td>\n",
       "      <td>UMTS</td>\n",
       "    </tr>\n",
       "    <tr>\n",
       "      <th>1294</th>\n",
       "      <td>40.052100</td>\n",
       "      <td>1.729800</td>\n",
       "      <td>Wajir_Hodhan</td>\n",
       "      <td>Rural</td>\n",
       "      <td>GSM</td>\n",
       "    </tr>\n",
       "    <tr>\n",
       "      <th>916</th>\n",
       "      <td>37.857222</td>\n",
       "      <td>-0.111222</td>\n",
       "      <td>Ruungu</td>\n",
       "      <td>Rural</td>\n",
       "      <td>UMTS</td>\n",
       "    </tr>\n",
       "    <tr>\n",
       "      <th>542</th>\n",
       "      <td>37.352889</td>\n",
       "      <td>-0.525556</td>\n",
       "      <td>Rwambiti</td>\n",
       "      <td>Rural</td>\n",
       "      <td>GSM</td>\n",
       "    </tr>\n",
       "    <tr>\n",
       "      <th>408</th>\n",
       "      <td>37.089713</td>\n",
       "      <td>-0.679615</td>\n",
       "      <td>YAKARENGO</td>\n",
       "      <td>Rural</td>\n",
       "      <td>GSM</td>\n",
       "    </tr>\n",
       "  </tbody>\n",
       "</table>\n",
       "</div>"
      ],
      "text/plain": [
       "      Longitude  Latitude       BTSName Classification Technology\n",
       "819   37.094944 -0.356778         Iruri          Rural       UMTS\n",
       "1294  40.052100  1.729800  Wajir_Hodhan          Rural        GSM\n",
       "916   37.857222 -0.111222        Ruungu          Rural       UMTS\n",
       "542   37.352889 -0.525556      Rwambiti          Rural        GSM\n",
       "408   37.089713 -0.679615     YAKARENGO          Rural        GSM"
      ]
     },
     "execution_count": 32,
     "metadata": {},
     "output_type": "execute_result"
    }
   ],
   "source": [
    "df.sample(5)"
   ]
  },
  {
   "cell_type": "code",
   "execution_count": 31,
   "metadata": {},
   "outputs": [
    {
     "data": {
      "text/plain": [
       "(1441, 5)"
      ]
     },
     "execution_count": 31,
     "metadata": {},
     "output_type": "execute_result"
    }
   ],
   "source": [
    "df.shape"
   ]
  },
  {
   "cell_type": "code",
   "execution_count": 7,
   "metadata": {},
   "outputs": [],
   "source": [
    "start=[-1.258843, 36.784805]\n",
    "destination1=[-0.42581598, 39.65352795]\n",
    "destination2=[3.94899426, 41.86590617]"
   ]
  },
  {
   "cell_type": "code",
   "execution_count": 8,
   "metadata": {},
   "outputs": [],
   "source": [
    "import googlemaps\n",
    "import polyline\n",
    "import matplotlib.pyplot as plt\n",
    "from datetime import datetime"
   ]
  },
  {
   "cell_type": "code",
   "execution_count": 10,
   "metadata": {},
   "outputs": [
    {
     "data": {
      "image/png": "[encoded data removed]",
      "text/plain": [
       "<Figure size 432x288 with 1 Axes>"
      ]
     },
     "metadata": {
      "needs_background": "light"
     },
     "output_type": "display_data"
    }
   ],
   "source": [
    "with open(\"C:\\\\Users\\\\mnmureithi\\\\Google API.txt\",\"r\") as apiKey:\n",
    "    #Connect to the googlemaps api\n",
    "    gmaps=googlemaps.Client(apiKey.read())\n",
    "    # Extract the directions between two points using driving mode\n",
    "    result=gmaps.directions(origin=\"-1.258843, 36.784805\",destination=\"3.94899426, 41.86590617\",mode=\"driving\",\n",
    "                           departure_time=datetime.now())\n",
    "    \n",
    "    dist=result[0]['legs'][0]['distance']['text']\n",
    "    time=result[0]['legs'][0]['duration']['text']\n",
    "    line=polyline.decode(result[0]['overview_polyline']['points'])\n",
    "    \n",
    "    #We need to invert the coordinates into(x,y) format rather than y,x format so as to plot on mpl\n",
    "    xs=[xy[1] for xy in line]\n",
    "    ys=[xy[0] for xy in line]\n",
    "    \n",
    "    plt.plot(xs,ys, label=\"distance: {}, time: {}\".format(dist, time))\n",
    "    plt.plot(36.784805,-1.258843)\n",
    "    plt.title('HQ to Mandera')\n",
    "    plt.xlabel('Longitudes')\n",
    "    plt.ylabel('Latitudes')\n",
    "    plt.legend()\n",
    "    \n",
    "    #plt.show()\n",
    "    plt.savefig(\"best_route.png\")"
   ]
  },
  {
   "cell_type": "code",
   "execution_count": 30,
   "metadata": {},
   "outputs": [
    {
     "ename": "TypeError",
     "evalue": "directions() got an unexpected keyword argument 'waypts'",
     "output_type": "error",
     "traceback": [
      "\u001b[1;31m---------------------------------------------------------------------------\u001b[0m",
      "\u001b[1;31mTypeError\u001b[0m                                 Traceback (most recent call last)",
      "\u001b[1;32m<ipython-input-30-d58949cf2842>\u001b[0m in \u001b[0;36m<module>\u001b[1;34m\u001b[0m\n\u001b[0;32m      4\u001b[0m     \u001b[1;31m# Extract the directions between two points using driving mode\u001b[0m\u001b[1;33m\u001b[0m\u001b[1;33m\u001b[0m\u001b[1;33m\u001b[0m\u001b[0m\n\u001b[0;32m      5\u001b[0m     result=gmaps.directions(origin=\"-1.258843, 36.784805\",destination=\"-0.42581598, 39.65352795\",waypts=\"-0.42581598, 39.65352795\",mode=\"driving\",\n\u001b[1;32m----> 6\u001b[1;33m                                  departure_time=datetime.now())\n\u001b[0m\u001b[0;32m      7\u001b[0m \u001b[1;33m\u001b[0m\u001b[0m\n\u001b[0;32m      8\u001b[0m \u001b[1;33m\u001b[0m\u001b[0m\n",
      "\u001b[1;32m~\\AppData\\Local\\Continuum\\anaconda\\lib\\site-packages\\googlemaps\\client.py\u001b[0m in \u001b[0;36mwrapper\u001b[1;34m(*args, **kwargs)\u001b[0m\n\u001b[0;32m    363\u001b[0m     \u001b[1;32mdef\u001b[0m \u001b[0mwrapper\u001b[0m\u001b[1;33m(\u001b[0m\u001b[1;33m*\u001b[0m\u001b[0margs\u001b[0m\u001b[1;33m,\u001b[0m \u001b[1;33m**\u001b[0m\u001b[0mkwargs\u001b[0m\u001b[1;33m)\u001b[0m\u001b[1;33m:\u001b[0m\u001b[1;33m\u001b[0m\u001b[1;33m\u001b[0m\u001b[0m\n\u001b[0;32m    364\u001b[0m         \u001b[0margs\u001b[0m\u001b[1;33m[\u001b[0m\u001b[1;36m0\u001b[0m\u001b[1;33m]\u001b[0m\u001b[1;33m.\u001b[0m\u001b[0m_extra_params\u001b[0m \u001b[1;33m=\u001b[0m \u001b[0mkwargs\u001b[0m\u001b[1;33m.\u001b[0m\u001b[0mpop\u001b[0m\u001b[1;33m(\u001b[0m\u001b[1;34m\"extra_params\"\u001b[0m\u001b[1;33m,\u001b[0m \u001b[1;32mNone\u001b[0m\u001b[1;33m)\u001b[0m\u001b[1;33m\u001b[0m\u001b[1;33m\u001b[0m\u001b[0m\n\u001b[1;32m--> 365\u001b[1;33m         \u001b[0mresult\u001b[0m \u001b[1;33m=\u001b[0m \u001b[0mfunc\u001b[0m\u001b[1;33m(\u001b[0m\u001b[1;33m*\u001b[0m\u001b[0margs\u001b[0m\u001b[1;33m,\u001b[0m \u001b[1;33m**\u001b[0m\u001b[0mkwargs\u001b[0m\u001b[1;33m)\u001b[0m\u001b[1;33m\u001b[0m\u001b[1;33m\u001b[0m\u001b[0m\n\u001b[0m\u001b[0;32m    366\u001b[0m         \u001b[1;32mtry\u001b[0m\u001b[1;33m:\u001b[0m\u001b[1;33m\u001b[0m\u001b[1;33m\u001b[0m\u001b[0m\n\u001b[0;32m    367\u001b[0m             \u001b[1;32mdel\u001b[0m \u001b[0margs\u001b[0m\u001b[1;33m[\u001b[0m\u001b[1;36m0\u001b[0m\u001b[1;33m]\u001b[0m\u001b[1;33m.\u001b[0m\u001b[0m_extra_params\u001b[0m\u001b[1;33m\u001b[0m\u001b[1;33m\u001b[0m\u001b[0m\n",
      "\u001b[1;31mTypeError\u001b[0m: directions() got an unexpected keyword argument 'waypts'"
     ]
    }
   ],
   "source": [
    "with open(\"C:\\\\Users\\\\mnmureithi\\\\Google API.txt\",\"r\") as apiKey:\n",
    "    #Connect to the googlemaps api\n",
    "    gmaps=googlemaps.Client(apiKey.read())\n",
    "    # Extract the directions between two points using driving mode\n",
    "    result=gmaps.directions(origin=\"-1.258843, 36.784805\",destination=\"-0.42581598, 39.65352795\",waypts=\"-0.42581598, 39.65352795\",mode=\"driving\",\n",
    "                                 departure_time=datetime.now())\n",
    "   \n",
    "    \n",
    "    dist=result[0]['legs'][0]['distance']['text']\n",
    "    time=result[0]['legs'][0]['duration']['text']\n",
    "    line=polyline.decode(result[0]['overview_polyline']['points'])\n",
    "    \n",
    "    #We need to invert the coordinates into(x,y) format rather than y,x format so as to plot on mpl\n",
    "    xs=[xy[1] for xy in line]\n",
    "    ys=[xy[0] for xy in line]\n",
    "    \n",
    "    plt.plot(xs,ys, label=\"distance: {}, time: {}\".format(dist, time))\n",
    "    plt.plot(36.784805,-1.258843)\n",
    "    plt.title('HQ to Mandera')\n",
    "    plt.xlabel('Longitudes')\n",
    "    plt.ylabel('Latitudes')\n",
    "    plt.legend()\n",
    "    \n",
    "    #plt.show()\n",
    "    plt.savefig(\"best_route.png\")"
   ]
  },
  {
   "cell_type": "code",
   "execution_count": null,
   "metadata": {},
   "outputs": [],
   "source": [
    "with open(\"C:\\\\Users\\\\mnmureithi\\\\Google API.txt\",\"r\") as apiKey:\n",
    "    #Connect to the googlemaps api\n",
    "    gmaps=googlemaps.Client(apiKey.read())\n",
    "    # Extract the directions between two points using driving mode\n",
    "    #result=gmaps.directions(origin=\"-1.258843, 36.784805\",destination1=\"-0.42581598, 39.65352795\",destination2=\"3.94899426, 41.86590617\",mode=\"driving\",\n",
    "                                 #departure_time=datetime.now())\n",
    "    start=\"-1.258843, 36.784805\"                     \n",
    "    destination=\"3.94899426, 41.86590617\"\n",
    "    waypts=\"-0.42581598, 39.65352795\",\"1.75174651, 40.04846739\"\n",
    "    #var_request\n",
    "    result= {\n",
    "        \"origin\": start, \n",
    "        \"destination\":destination,\n",
    "        \"waypoints\": waypts,\n",
    "        #optimizeWaypoints: true,\n",
    "        travelMode: google.maps.DirectionsTravelMode.DRIVING\n",
    "        };\n",
    "    directionsService.route(request, function(response, status))\n",
    "    \n",
    "    dist=result[0]['legs'][0]['distance']['text']\n",
    "    time=result[0]['legs'][0]['duration']['text']\n",
    "    line=polyline.decode(result[0]['overview_polyline']['points'])\n",
    "    \n",
    "    #We need to invert the coordinates into(x,y) format rather than y,x format so as to plot on mpl\n",
    "    xs=[xy[1] for xy in line]\n",
    "    ys=[xy[0] for xy in line]\n",
    "    \n",
    "    plt.plot(xs,ys, label=\"distance: {}, time: {}\".format(dist, time))\n",
    "    plt.plot(36.784805,-1.258843)\n",
    "    plt.title('HQ to Mandera')\n",
    "    plt.xlabel('Longitudes')\n",
    "    plt.ylabel('Latitudes')\n",
    "    plt.legend()\n",
    "    \n",
    "    #plt.show()\n",
    "    plt.savefig(\"best_route.png\")"
   ]
  }
 ],
 "metadata": {
  "kernelspec": {
   "display_name": "Python 3",
   "language": "python",
   "name": "python3"
  },
  "language_info": {
   "codemirror_mode": {
    "name": "ipython",
    "version": 3
   },
   "file_extension": ".py",
   "mimetype": "text/x-python",
   "name": "python",
   "nbconvert_exporter": "python",
   "pygments_lexer": "ipython3",
   "version": "3.7.1"
  }
 },
 "nbformat": 4,
 "nbformat_minor": 2
}
