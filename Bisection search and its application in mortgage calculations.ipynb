{
 "cells": [
  {
   "cell_type": "markdown",
   "metadata": {},
   "source": [
    "# Assignmant two"
   ]
  },
  {
   "cell_type": "markdown",
   "metadata": {},
   "source": [
    "## Question 1"
   ]
  },
  {
   "cell_type": "code",
   "execution_count": null,
   "metadata": {},
   "outputs": [
    {
     "name": "stdout",
     "output_type": "stream",
     "text": [
      "Kindly enter a number x-1\n",
      "Please enter a number greater than 0\n",
      "Kindly enter a number y-3\n",
      "Please enter a number greater than 0\n"
     ]
    }
   ],
   "source": [
    "import math\n",
    "while True:\n",
    "    try:\n",
    "        x=int(input(\"Kindly enter a number x\"))\n",
    "        if x>0:\n",
    "            print(\"The number is {}\".format(x))\n",
    "        else:\n",
    "            print(\"Please enter a number greater than 0\")\n",
    "    except ValueError:\n",
    "        print(\"Not a number\")\n",
    "        continue\n",
    "    else:\n",
    "        break\n",
    "while True:\n",
    "    try:\n",
    "        y=int(input(\"Kindly enter a number y\"))\n",
    "        if y>0:\n",
    "            print(\"The number is {}\".format(y))\n",
    "        else:\n",
    "            print(\"Please enter a number greater than 0\")\n",
    "    except ValueError:\n",
    "        print(\"Not a number\")\n",
    "        continue\n",
    "    else:\n",
    "        break\n",
    "#z=x**y\n",
    "print(\"\\033[1m\"+\"{} raised to the power {} is\".format(x,y),pow(x,y))\n",
    "a=math.log(abs(x))\n",
    "print (\"The log of {} is\".format(x),a)"
   ]
  },
  {
   "cell_type": "code",
   "execution_count": null,
   "metadata": {},
   "outputs": [
    {
     "name": "stdout",
     "output_type": "stream",
     "text": [
      "Kindly enter a number xi\n",
      "not a number\n",
      "Kindly enter a number xe\n",
      "not a number\n",
      "Kindly enter a number xr\n",
      "not a number\n"
     ]
    }
   ],
   "source": [
    "import math\n",
    "while True:\n",
    "    try:\n",
    "        x=int(input(\"Kindly enter a number x\"))\n",
    "        y=int(input('Kindly enter y'))\n",
    "        if (x>0 and y>0):\n",
    "            print('x is {} and y is {}'.format(x,y))\n",
    "            print('x to power y is {}'.format(pow(x,y)))\n",
    "        else:\n",
    "            print('Above zero')\n",
    "    except ValueError:\n",
    "        print('not a number')\n",
    "        continue\n",
    "    else:\n",
    "        break"
   ]
  },
  {
   "cell_type": "code",
   "execution_count": 10,
   "metadata": {},
   "outputs": [
    {
     "name": "stdout",
     "output_type": "stream",
     "text": [
      "please enter your age34\n",
      "You are 34 years old \n",
      "You were born in 1985\n"
     ]
    }
   ],
   "source": [
    "# Write a program that requests the user for his age then calculates when he was born\n",
    "while True:\n",
    "    try:\n",
    "        age=int(input('please enter your age'))\n",
    "        if age>0:\n",
    "            print('You are {} years old '.format(age))\n",
    "            YOB=2019-age\n",
    "            print('You were born in {}'.format(YOB))\n",
    "        else:\n",
    "            print('please enter a value above zero')\n",
    "    except ValueError:\n",
    "        print('Please engter a non-zero number')\n",
    "        continue\n",
    "    else:\n",
    "        break"
   ]
  },
  {
   "cell_type": "markdown",
   "metadata": {},
   "source": [
    "## Question 2 attempt 1"
   ]
  },
  {
   "cell_type": "code",
   "execution_count": 2,
   "metadata": {},
   "outputs": [
    {
     "name": "stdout",
     "output_type": "stream",
     "text": [
      "\u001b[1mWelcome!! Your dream home is only a few months away\n",
      "Please enter your name:Maurer\n",
      "Welcome Maurer! we are pleased to serve you.\n",
      "Please enter your monthly salary in Ksh1323243\n",
      "Your annual salary is Ksh15878916.0\n",
      "Please provide your monthly savings in Ksh4344\n",
      "Your annual current savings are ksh54213.12\n",
      "Please provide the portion of salary to be saved per month for downpayment in percentage,eg,0.523434\n",
      "Error! the value exceeds your total salary\n",
      "Please provide the amount you would like to save per month2344\n",
      "Your annual savings are ksh28128.0\n",
      "What is the cost of your dream home?2434245\n",
      "The total cost of your dream home is Ksh2434245.0\n",
      "The downpayment required is Ksh608561.25\n",
      "Good news: It will only take 260months to pay the downpayment\n"
     ]
    }
   ],
   "source": [
    "import math\n",
    "print('\\033[1m'+\"Welcome!! Your dream home is only a few months away\")\n",
    "try: # to request the user to provide their salary information\n",
    "    name=str(input(\"Please enter your name:\"))\n",
    "    print(\"Welcome %s! we are pleased to serve you.\"%name)\n",
    "    monthly_salary= float(input(\"Please enter your monthly salary in Ksh\"))\n",
    "    annual_salary=(monthly_salary*12)\n",
    "    print(\"Your annual salary is Ksh{}\".format(annual_salary))\n",
    "except ValueError:\n",
    "    print(\"Please enter your monthly salary in digits, for example, 100000\")\n",
    "    monthly_salary= float(input(\"Please enter your monthly salary in Ksh\"))\n",
    "    annual_salary=(monthly_salary*12)\n",
    "    print(\"Your annual salary is ksh{}\".format(annual_salary)) \n",
    "try:#Amount to go to the current savings account\n",
    "    current_saving=float(input(\"Please provide your monthly savings in Ksh\"))\n",
    "    if current_saving<monthly_salary:\n",
    "        annual_current_saving=(current_saving*12*1.04)\n",
    "        print(\"Your annual current savings are ksh{}\".format(annual_current_saving))\n",
    "    else:\n",
    "        print(\"Error! Your monthly savings cannot exceed your moonthly salary\")\n",
    "        current_saving=float(input(\"Please provide your monthhly savings in Ksh\"))\n",
    "        annual_current_saving=(current_saving*12)\n",
    "        print(\"Your annual savings are ksh{}\".format(annual_current_saving)) \n",
    "except ValueError:\n",
    "    print(\"Please enter your monthly savings in digits\")\n",
    "    current_saving=float(input(\"Please provide your monthhly savings in Ksh\"))\n",
    "    annual_current_saving=(current_saving*12)\n",
    "    print(\"Your annual current savings are ksh{}\".format(annual_current_saving))\n",
    "try:#Requesting the user to provide details of savings for downpayment.\n",
    "    monthly_saving_ratio=float(input(\"Please provide the portion of salary to be saved per month for downpayment in percentage,eg,0.5\"))\n",
    "    monthly_saving=(monthly_saving_ratio*monthly_salary)\n",
    "    total_savings=(monthly_saving+current_saving)\n",
    "    if total_savings<monthly_salary:\n",
    "        portion_saved=(monthly_saving*12)\n",
    "        print(\"Your annual savings for the downpayment are ksh{}\".format(portion_saved))\n",
    "    else:\n",
    "        print(\"Error! the value exceeds your total salary\")\n",
    "        monthly_saving=float(input(\"Please provide the amount you would like to save per month\"))\n",
    "        portion_saved=(monthly_saving*12)\n",
    "        print(\"Your annual savings are ksh{}\".format(portion_saved))\n",
    "except ValueError:\n",
    "    print(\"Please enter your monthly savings in digits\")\n",
    "    monthly_saving=float(input(\"Please provide the amount you would like to save per month\"))\n",
    "    portion_saved=(monthly_saving*12)\n",
    "    print(\"Your annual savings are ksh{}\".format(portion_saved))\n",
    "try:#Requesting the user to provide details of cost of dream home.\n",
    "    total_cost=float(input(\"What is the cost of your dream home?\"))\n",
    "    print(\"The total cost of your dream home is Ksh{}\".format(total_cost))\n",
    "    portion_down_payment=(0.25*total_cost)\n",
    "    print(\"The downpayment required is Ksh{}\".format(portion_down_payment))\n",
    "except:\n",
    "    print(\"Please enter the total cost of your dream home in digits\")\n",
    "    total_cost=float(input(\"What is the cost of your dream home?\"))\n",
    "    print(\"The total cost of your dream home is Ksh{}\".format(total_cost))\n",
    "    \n",
    "    \n",
    "##Amount of time it will take to raise enough time for the house\n",
    "months=math.ceil((portion_down_payment/monthly_saving))\n",
    "print(\"Good news: It will only take {}months to pay the downpayment\".format(months))\n"
   ]
  },
  {
   "cell_type": "markdown",
   "metadata": {},
   "source": [
    "### Question 2 Attempt 2"
   ]
  },
  {
   "cell_type": "code",
   "execution_count": 2,
   "metadata": {},
   "outputs": [
    {
     "name": "stdout",
     "output_type": "stream",
     "text": [
      "\u001b[1mWelcome!! Your dream home is only a few months away\n",
      "Please enter your name:Maureen\n",
      "Welcome Maureen! we are pleased to serve you.\n",
      "Please enter your annual salary in Ksh1200000\n",
      "Please provide the portion of salary to be saved per month for downpayment in percentage,eg,0.50.1\n",
      "What is the cost of your dream home?6000000\n",
      "The downpayment required is Ksh1500000.0\n",
      "Good news: It will only take 122months to pay the downpayment\n"
     ]
    }
   ],
   "source": [
    "import math\n",
    "print('\\033[1m'+\"Welcome!! Your dream home is only a few months away\")\n",
    "current_savings=0\n",
    "r=0.04\n",
    "months=0\n",
    "try: # to request the user to provide their salary information\n",
    "    name=str(input(\"Please enter your name:\"))\n",
    "    print(\"Welcome %s! we are pleased to serve you.\"%name)\n",
    "    annual_salary= float(input(\"Please enter your annual salary in Ksh\"))\n",
    "except ValueError:\n",
    "    print(\"Please enter your monthly salary in digits, for example, 100000\")\n",
    "    annual_salary= float(input(\"Please enter your monthly salary in Ksh\"))     \n",
    "try:#Requesting the user to provide details of savings for downpayment.\n",
    "    portion_saved=float(input(\"Please provide the portion of salary to be saved per month for downpayment in percentage,eg,0.5\"))\n",
    "    current_savings=(current_savings+((current_savings)+(portion_saved*annual_salary/12))*r/12)\n",
    "except ValueError:\n",
    "    print(\"Please enter your monthly savings in digits\")\n",
    "    portion_saved=float(input(\"Please provide the portion of salary to be saved per month for downpayment in percentage,eg,0.5\"))\n",
    "    current_savings=(current_savings+((current_savings)+(portion_saved*annual_salary/12))*r/12)\n",
    "try:#Requesting the user to provide details of cost of dream home.\n",
    "    total_cost=float(input(\"What is the cost of your dream home?\"))\n",
    "    portion_down_payment=(0.25*total_cost)    \n",
    "except:\n",
    "    print(\"Please enter the total cost of your dream home in digits\")\n",
    "    total_cost=float(input(\"What is the cost of your dream home?\"))\n",
    "    \n",
    "while (portion_down_payment>current_savings):\n",
    "    current_savings=current_savings+((current_savings*r/12)+(portion_saved*annual_salary/12))\n",
    "    months=months+1\n",
    "    #print (\"Month: \", months,\"Savings: \",current_savings)\n",
    "print(\"The downpayment required is Ksh{}\".format(portion_down_payment))\n",
    "print(\"Good news: It will only take {}months to pay the downpayment\".format(months))"
   ]
  },
  {
   "cell_type": "code",
   "execution_count": 4,
   "metadata": {},
   "outputs": [
    {
     "name": "stdout",
     "output_type": "stream",
     "text": [
      "\u001b[1mWelcome!! Your dream home is only a few months away\n",
      "Please enter your name:m\n",
      "Welcome m! we are pleased to serve you.\n",
      "Please enter your annual salary in Kshe\n",
      "Please enter your monthly salary in digits, for example, 100000\n",
      "Please enter your name:mo\n",
      "Welcome mo! we are pleased to serve you.\n",
      "Please enter your annual salary in Kshr\n",
      "Please enter your monthly salary in digits, for example, 100000\n",
      "Please enter your name:mo\n",
      "Welcome mo! we are pleased to serve you.\n",
      "Please enter your annual salary in Ksh3000000\n",
      "Please provide the portion of salary to be saved per month for downpayment in percentage,eg,0.58000000\n",
      "What is the cost of your dream home?20\n",
      "The downpayment required is Ksh5.0\n",
      "Good news: It will only take 0months to pay the downpayment\n"
     ]
    }
   ],
   "source": [
    "import math\n",
    "print('\\033[1m'+\"Welcome!! Your dream home is only a few months away\")\n",
    "current_savings=0\n",
    "r=0.04\n",
    "months=0\n",
    "while True:\n",
    "    try: # to request the user to provide their salary information\n",
    "        name=str(input(\"Please enter your name:\"))\n",
    "        print(\"Welcome %s! we are pleased to serve you.\"%name)\n",
    "        annual_salary= float(input(\"Please enter your annual salary in Ksh\"))\n",
    "    except ValueError:\n",
    "        print(\"Please enter your monthly salary in digits, for example, 100000\")\n",
    "        continue\n",
    "    #else:\n",
    "        #break\n",
    "    try:#Requesting the user to provide details of savings for downpayment.\n",
    "        portion_saved=float(input(\"Please provide the portion of salary to be saved per month for downpayment in percentage,eg,0.5\"))\n",
    "        current_savings=(current_savings+((current_savings)+(portion_saved*annual_salary/12))*r/12)\n",
    "    except ValueError:\n",
    "        print(\"Please enter your monthly savings in digits\")\n",
    "        portion_saved=float(input(\"Please provide the portion of salary to be saved per month for downpayment in percentage,eg,0.5\"))\n",
    "        continue\n",
    "    #else:\n",
    "        #break\n",
    "        #current_savings=(current_savings+((current_savings)+(portion_saved*annual_salary/12))*r/12)\n",
    "    try:#Requesting the user to provide details of cost of dream home.\n",
    "        total_cost=float(input(\"What is the cost of your dream home?\"))\n",
    "        portion_down_payment=(0.25*total_cost)    \n",
    "    except:\n",
    "        print(\"Please enter the total cost of your dream home in digits\")\n",
    "        continue\n",
    "    else:\n",
    "        break\n",
    "        #total_cost=float(input(\"What is the cost of your dream home?\"))\n",
    "\n",
    "while (portion_down_payment>current_savings):\n",
    "    current_savings=current_savings+((current_savings*r/12)+(portion_saved*annual_salary/12))\n",
    "    months=months+1\n",
    "    #print (\"Month: \", months,\"Savings: \",current_savings)\n",
    "print(\"The downpayment required is Ksh{}\".format(portion_down_payment))\n",
    "print(\"Good news: It will only take {}months to pay the downpayment\".format(months))"
   ]
  },
  {
   "cell_type": "markdown",
   "metadata": {},
   "source": [
    "## Question 3"
   ]
  },
  {
   "cell_type": "code",
   "execution_count": 4,
   "metadata": {},
   "outputs": [
    {
     "name": "stdout",
     "output_type": "stream",
     "text": [
      "\u001b[1mWelcome!! Your dream home is only a few months away\n",
      "Please enter your name:Maureen\n",
      "Welcome Maureen! we are pleased to serve you.\n",
      "Please enter your annual salary in Ksh120000\n",
      "Please input your semi-annual salary incremental factor0.03\n",
      "Please provide the portion of salary to be saved per month for downpayment in percentage,eg,0.50.05\n",
      "What is the cost of your dream home?500000\n",
      "The downpayment required is Ksh125000.0\n",
      "Good news: It will only take 142months to pay the downpayment\n"
     ]
    }
   ],
   "source": [
    "import math\n",
    "print('\\033[1m'+\"Welcome!! Your dream home is only a few months away\")\n",
    "current_savings=0\n",
    "r=0.04\n",
    "months=0\n",
    "try: # to request the user to provide their salary information\n",
    "    name=str(input(\"Please enter your name:\"))\n",
    "    print(\"Welcome %s! we are pleased to serve you.\"%name)\n",
    "    annual_salary= float(input(\"Please enter your annual salary in Ksh\"))\n",
    "    semi_annual_raise=float(input(\"Please input your semi-annual salary incremental factor\"))\n",
    "except ValueError:\n",
    "    print(\"Please enter your monthly salary in digits, for example, 100000\")\n",
    "    annual_salary= float(input(\"Please enter your monthly salary in Ksh\"))     \n",
    "try:#Requesting the user to provide details of savings for downpayment.\n",
    "    portion_saved=float(input(\"Please provide the portion of salary to be saved per month for downpayment in percentage,eg,0.5\"))\n",
    "except ValueError:\n",
    "    print(\"Please enter your monthly savings in digits\")\n",
    "    portion_saved=float(input(\"Please provide the portion of salary to be saved per month for downpayment in percentage,eg,0.5\"))\n",
    "try:#Requesting the user to provide details of cost of dream home.\n",
    "    total_cost=float(input(\"What is the cost of your dream home?\"))\n",
    "    portion_down_payment=(0.25*total_cost)\n",
    "    \n",
    "except:\n",
    "    print(\"Please enter the total cost of your dream home in digits\")\n",
    "    total_cost=float(input(\"What is the cost of your dream home?\"))\n",
    "while (portion_down_payment>current_savings):\n",
    "    current_savings=current_savings+((current_savings*r/12)+(portion_saved*annual_salary/12))\n",
    "    months=months+1\n",
    "    if months % 6 == 0:\n",
    "        annual_salary = annual_salary+((annual_salary)*semi_annual_raise)\n",
    "        #print (\"Month: \", months,\"Savings: \",current_savings)\n",
    "print(\"The downpayment required is Ksh{}\".format(portion_down_payment))\n",
    "print(\"Good news: It will only take {}months to pay the downpayment\".format(months))\n",
    "\n"
   ]
  },
  {
   "cell_type": "markdown",
   "metadata": {},
   "source": [
    "## Question 4 attempt 1"
   ]
  },
  {
   "cell_type": "code",
   "execution_count": 3,
   "metadata": {},
   "outputs": [
    {
     "name": "stdout",
     "output_type": "stream",
     "text": [
      "Please enter your name:Maureen\n",
      "Welcome Maureen! we are pleased to serve you.\n",
      "Please enter your annual salary in Ksh120000\n",
      "salary too low\n",
      "25005386.012264904 0.5\n",
      "Attempt number36\n",
      "Goodbye!\n"
     ]
    }
   ],
   "source": [
    "#Calculate the %portion_saved(best saving rate) within 36months\n",
    "import math\n",
    "#import random\n",
    "semi_annual_raise=0.07\n",
    "total_cost=100000000\n",
    "months=0\n",
    "current_savings=0\n",
    "guess=0\n",
    "r=0.04\n",
    "high=10000\n",
    "low=0\n",
    "down_payment=(0.25*total_cost)\n",
    "\n",
    "try: # to request the user to provide their salary information\n",
    "    name=str(input(\"Please enter your name:\"))\n",
    "    print(\"Welcome %s! we are pleased to serve you.\"%name)\n",
    "    annual_salary= float(input(\"Please enter your annual salary in Ksh\"))\n",
    "    #semi_annual_raise=float(input(\"Please input your semi-annual salary incremental factor\"))\n",
    "except ValueError:\n",
    "    print(\"Please enter your monthly salary in digits, for example, 100000\")\n",
    "    annual_salary= float(input(\"Please enter your monthly salary in Ksh\"))\n",
    "    \n",
    "portion_saved=((high+low)/20000)\n",
    "\n",
    "while (current_savings<=down_payment):\n",
    "    #count=count+1\n",
    "    #print(\"Attempt number{}\".format(count))\n",
    "    current_savings=current_savings+((current_savings*r/12)+(portion_saved*annual_salary/12))\n",
    "    months=months+1\n",
    "    if(months<=36):\n",
    "        #portion_saved=(random.randint(0,10000)/10000)\n",
    "        high=portion_saved\n",
    "        #print(\"The best saving rate{}\".format(portion_saved))\n",
    "        guess=guess+1\n",
    "        #print(current_savings,months)\n",
    "    else:\n",
    "        low=portion_saved\n",
    "print(\"salary too low\")\n",
    "print(current_savings,portion_saved)\n",
    "print(\"Attempt number{}\".format(guess))\n",
    "print(\"Goodbye!\")        "
   ]
  },
  {
   "cell_type": "code",
   "execution_count": 9,
   "metadata": {},
   "outputs": [
    {
     "name": "stdout",
     "output_type": "stream",
     "text": [
      "19\n"
     ]
    }
   ],
   "source": [
    " elif(months>36):\n",
    "        #months=months+1\n",
    "        low=portion_saved\n",
    "        #portion_saved=(random.randint(0,10000)/10000)\n",
    "        #current_savings=current_savings+((current_savings*r/12)+(portion_saved*annual_salary/12))\n",
    "        print(\"***The best saving rate{}\".format(portion_saved))\n",
    "        guess=guess+1\n",
    "        print(\"Attempt number{}\".format(guess))\n",
    "        print(current_savings,)"
   ]
  },
  {
   "cell_type": "code",
   "execution_count": 2,
   "metadata": {},
   "outputs": [
    {
     "name": "stdout",
     "output_type": "stream",
     "text": [
      "0.8431\n"
     ]
    }
   ],
   "source": [
    "import math\n",
    "import random\n",
    "portion_saved=(random.randint(0,10000)/10000)\n",
    "print(\"{}\".format(portion_saved))"
   ]
  },
  {
   "cell_type": "code",
   "execution_count": 6,
   "metadata": {},
   "outputs": [],
   "source": [
    "r=0.04\n",
    "current_savings=100\n",
    "current_savings=current_savings*(1+r/12)"
   ]
  },
  {
   "cell_type": "code",
   "execution_count": null,
   "metadata": {},
   "outputs": [
    {
     "name": "stdout",
     "output_type": "stream",
     "text": [
      "Enter your starting salary: 120000\n"
     ]
    }
   ],
   "source": [
    "starting_salary = float(input(\"Enter your starting salary:\"))\n",
    "months_salary = starting_salary/12\n",
    "total_cost = 1000000.0\n",
    "semi_annual_rate = .07\n",
    "investment_return = 0.04\n",
    "down_payment = total_cost * 0.25\n",
    "r = 0.04\n",
    "current_savings = 0.0\n",
    "#months = 36\n",
    "tolerance = 100\n",
    "steps = 0\n",
    "high = 10000.0\n",
    "low = 0.0\n",
    "guess = (high+low)/20000.0\n",
    "total_salaries = 0.0\n",
    "def calSavings(current_savings,months_salary,guess,month):\n",
    "    for months in range(0,37):\n",
    "        if  months%6==1 and months >1:\n",
    "            months_salary=months_salary*(1+semi_annual_rate)\n",
    "        current_savings = current_savings + months_salary * guess\n",
    "        current_savings = current_savings * (1+0.04/12)\n",
    "    return(current_savings)\n",
    "current_savings = calSavings(current_savings,months_salary,guess,1)\n",
    "while abs(current_savings-down_payment)>=100:\n",
    "    if  current_savings < down_payment:\n",
    "        low = guess\n",
    "    elif current_savings > down_payment:\n",
    "        high = guess\n",
    "    else:\n",
    "        print(\"It is not possible to pay the down payment in three years.\")\n",
    "        break\n",
    "    guess = (low+high)/2\n",
    "    steps = steps +1\n",
    "print(\"Best saving rate: \", guess)    "
   ]
  },
  {
   "cell_type": "markdown",
   "metadata": {},
   "source": [
    "# Question 4\n"
   ]
  },
  {
   "cell_type": "code",
   "execution_count": 8,
   "metadata": {},
   "outputs": [
    {
     "name": "stdout",
     "output_type": "stream",
     "text": [
      "Enter annual salary:12000000\n",
      "Total sal 1073566.6666666667\n",
      "Total sal 2226112.0544444444\n",
      "Total sal 3463446.364583074\n",
      "Total sal 4791807.235470902\n",
      "Total sal 6217891.187760378\n",
      "Best savings rate: 0.0403\n",
      "Steps in bisection search: 11\n",
      "250476.57372569884\n"
     ]
    }
   ],
   "source": [
    "annual_salary = float(input('Enter annual salary:'))\n",
    "monthly_salary = annual_salary/ 12.0\n",
    "semi_annual_raise = 0.07\n",
    "total_cost = 1000000.0\n",
    "down_payment = total_cost * .25\n",
    "months = 36\n",
    "rate = 0.04 \n",
    "monthly_rate = rate / 12.0\n",
    "epsilon = 1000\n",
    "high = 1.0\n",
    "low = 0.0\n",
    "saving_rate = (high + low)/2.0 #Saving rate\n",
    "steps = 0      #number of guesses to reach best saving rate\n",
    "\n",
    "total_salary = 0.0       #salary for 3 years including raise\n",
    "for i in range(0, 36):\n",
    "    if i != 0 and i % 6 == 0:\n",
    "        monthly_salary += monthly_salary * semi_annual_raise\n",
    "        monthly_salary += monthly_salary * monthly_rate\n",
    "        total_salary += monthly_salary\n",
    "        print('Total sal {}'.format(total_salary))\n",
    "if total_salary < down_payment - 1000:\n",
    "    print('It is not possible to pay the down payment in three years.')\n",
    "else:\n",
    "    savings = total_salary * saving_rate\n",
    "    while abs(savings - down_payment) >= epsilon:\n",
    "        steps += 1\n",
    "        if savings < down_payment:\n",
    "                low = saving_rate\n",
    "        else:\n",
    "                high = saving_rate\n",
    "        saving_rate = (high + low)/2.0\n",
    "        savings = total_salary * saving_rate\n",
    "    print('Best savings rate:', \"%.4f\" % saving_rate)\n",
    "    print('Steps in bisection search:', steps)\n",
    "    print(savings)\n",
    "  "
   ]
  },
  {
   "cell_type": "code",
   "execution_count": 1,
   "metadata": {},
   "outputs": [
    {
     "name": "stdout",
     "output_type": "stream",
     "text": [
      "Enter annual salary:1200000000\n",
      "Total sal 107356666.66666667\n",
      "Total sal 222611205.44444448\n",
      "Total sal 346344636.45830745\n",
      "Total sal 479180723.5470903\n",
      "Total sal 621789118.7760379\n",
      "Saving rate is 0.0001220703125\n",
      "Counts 12\n"
     ]
    }
   ],
   "source": [
    "annual_salary = float(input('Enter annual salary:'))\n",
    "monthly_salary = annual_salary/ 12.0\n",
    "semi_annual_raise = 0.07\n",
    "total_cost = 1000000.0\n",
    "down_payment = total_cost * .25\n",
    "months = 36\n",
    "rate = 0.04 \n",
    "monthly_rate = rate / 12.0\n",
    "epsilon = 1000\n",
    "high = 1.0\n",
    "low = 0.0\n",
    "saving_rate = (high + low)/2.0 #Saving rate\n",
    "steps = 0      #number of guesses to reach best saving rate\n",
    "total_salary=0\n",
    "for months in range (0, 36):\n",
    "    if months!=0 and months%6==0:\n",
    "        monthly_salary=monthly_salary+(monthly_salary*semi_annual_raise)\n",
    "        monthly_salary=monthly_salary+(monthly_salary*rate/12)\n",
    "        total_salary=total_salary+monthly_salary\n",
    "        print('Total sal {}'.format(total_salary))\n",
    "if total_salary< down_payment-epsilon:\n",
    "    print('Salary too low')\n",
    "else:\n",
    "    count=0\n",
    "    savings=saving_rate*annual_salary\n",
    "    while (savings-down_payment)>=epsilon:\n",
    "        count=count+1\n",
    "        if savings<down_payment:\n",
    "            low=saving_rate\n",
    "           \n",
    "           \n",
    "        else:\n",
    "            high=saving_rate\n",
    "            \n",
    "        saving_rate = (high + low)/2.0\n",
    "        savings=saving_rate*annual_salary\n",
    "    print('Saving rate is {}'.format(saving_rate))\n",
    "    print('Counts {}'.format(count))\n",
    "    "
   ]
  },
  {
   "cell_type": "code",
   "execution_count": null,
   "metadata": {},
   "outputs": [],
   "source": []
  },
  {
   "cell_type": "code",
   "execution_count": null,
   "metadata": {},
   "outputs": [],
   "source": []
  }
 ],
 "metadata": {
  "kernelspec": {
   "display_name": "Python 3",
   "language": "python",
   "name": "python3"
  },
  "language_info": {
   "codemirror_mode": {
    "name": "ipython",
    "version": 3
   },
   "file_extension": ".py",
   "mimetype": "text/x-python",
   "name": "python",
   "nbconvert_exporter": "python",
   "pygments_lexer": "ipython3",
   "version": "3.7.1"
  }
 },
 "nbformat": 4,
 "nbformat_minor": 2
}
