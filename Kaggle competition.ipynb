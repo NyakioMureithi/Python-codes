{
 "cells": [
  {
   "cell_type": "code",
   "execution_count": 1,
   "metadata": {},
   "outputs": [],
   "source": [
    "import pandas as pd \n",
    "import numpy as np\n",
    "import matplotlib.pyplot as plt\n",
    "import seaborn as sns"
   ]
  },
  {
   "cell_type": "code",
   "execution_count": 2,
   "metadata": {},
   "outputs": [
    {
     "name": "stderr",
     "output_type": "stream",
     "text": [
      "C:\\Users\\mnmureithi\\AppData\\Local\\Continuum\\anaconda\\lib\\site-packages\\IPython\\core\\interactiveshell.py:3020: DtypeWarning: Columns (6,7,9,10) have mixed types. Specify dtype option on import or set low_memory=False.\n",
      "  interactivity=interactivity, compiler=compiler, result=result)\n"
     ]
    }
   ],
   "source": [
    "df=pd.read_csv('D:\\\\resources\\\\Digital Academy\\\\Python\\\\Advanced\\\\Machine Learning\\\\h1b_kaggle.csv',encoding='iso-8859-1',index_col=0)"
   ]
  },
  {
   "cell_type": "code",
   "execution_count": 3,
   "metadata": {},
   "outputs": [
    {
     "data": {
      "text/html": [
       "<div>\n",
       "<style scoped>\n",
       "    .dataframe tbody tr th:only-of-type {\n",
       "        vertical-align: middle;\n",
       "    }\n",
       "\n",
       "    .dataframe tbody tr th {\n",
       "        vertical-align: top;\n",
       "    }\n",
       "\n",
       "    .dataframe thead th {\n",
       "        text-align: right;\n",
       "    }\n",
       "</style>\n",
       "<table border=\"1\" class=\"dataframe\">\n",
       "  <thead>\n",
       "    <tr style=\"text-align: right;\">\n",
       "      <th></th>\n",
       "      <th>CASE_STATUS</th>\n",
       "      <th>EMPLOYER_NAME</th>\n",
       "      <th>SOC_NAME</th>\n",
       "      <th>JOB_TITLE</th>\n",
       "      <th>FULL_TIME_POSITION</th>\n",
       "      <th>PREVAILING_WAGE</th>\n",
       "      <th>YEAR</th>\n",
       "      <th>WORKSITE</th>\n",
       "      <th>lon</th>\n",
       "      <th>lat</th>\n",
       "    </tr>\n",
       "  </thead>\n",
       "  <tbody>\n",
       "    <tr>\n",
       "      <th>1</th>\n",
       "      <td>CERTIFIED-WITHDRAWN</td>\n",
       "      <td>UNIVERSITY OF MICHIGAN</td>\n",
       "      <td>BIOCHEMISTS AND BIOPHYSICISTS</td>\n",
       "      <td>POSTDOCTORAL RESEARCH FELLOW</td>\n",
       "      <td>N</td>\n",
       "      <td>36067</td>\n",
       "      <td>20£1*6</td>\n",
       "      <td>ANN ARBOR, MICHIGAN</td>\n",
       "      <td>-83.7430378</td>\n",
       "      <td>42.2808256</td>\n",
       "    </tr>\n",
       "    <tr>\n",
       "      <th>2</th>\n",
       "      <td>CERTIFIED-WITHDRAWN</td>\n",
       "      <td>GOODMAN NETWORKS, INC.</td>\n",
       "      <td>CHIEF EXECUTIVES232</td>\n",
       "      <td>CHIEF OPERATING OFFICER</td>\n",
       "      <td>Y</td>\n",
       "      <td>242674</td>\n",
       "      <td>20£1*6</td>\n",
       "      <td>PLANO, TEXAS</td>\n",
       "      <td>-96.6988856</td>\n",
       "      <td>33.0198431</td>\n",
       "    </tr>\n",
       "    <tr>\n",
       "      <th>3</th>\n",
       "      <td>CERTIFIED-WITHDRAWN</td>\n",
       "      <td>PORTS AMERICA GROUP, INC.</td>\n",
       "      <td>CHIEF EXECUTIVES232</td>\n",
       "      <td>CHIEF PROCESS OFFICER</td>\n",
       "      <td>Y</td>\n",
       "      <td>193066</td>\n",
       "      <td>20£1*6</td>\n",
       "      <td>JERSEY CITY, NEW JERSEY</td>\n",
       "      <td>-74.0776417</td>\n",
       "      <td>40.7281575</td>\n",
       "    </tr>\n",
       "    <tr>\n",
       "      <th>4</th>\n",
       "      <td>CERTIFIED-WITHDRAWN</td>\n",
       "      <td>GATES CORPORATION, A WHOLLY-OWNED SUBSIDIARY O...</td>\n",
       "      <td>CHIEF EXECUTIVES232</td>\n",
       "      <td>REGIONAL PRESIDEN, AMERICAS</td>\n",
       "      <td>Y</td>\n",
       "      <td>220314</td>\n",
       "      <td>20£1*6</td>\n",
       "      <td>DENVER, COLORADO</td>\n",
       "      <td>-104.990251</td>\n",
       "      <td>39.7392358</td>\n",
       "    </tr>\n",
       "    <tr>\n",
       "      <th>5</th>\n",
       "      <td>WITHDRAWN</td>\n",
       "      <td>PEABODY INVESTMENTS CORP.</td>\n",
       "      <td>CHIEF EXECUTIVES232</td>\n",
       "      <td>PRESIDENT MONGOLIA AND INDIA</td>\n",
       "      <td>Y</td>\n",
       "      <td>157518.4</td>\n",
       "      <td>20£1*6</td>\n",
       "      <td>ST. LOUIS, MISSOURI</td>\n",
       "      <td>-90.1994042</td>\n",
       "      <td>38.6270025</td>\n",
       "    </tr>\n",
       "  </tbody>\n",
       "</table>\n",
       "</div>"
      ],
      "text/plain": [
       "           CASE_STATUS                                      EMPLOYER_NAME  \\\n",
       "1  CERTIFIED-WITHDRAWN                             UNIVERSITY OF MICHIGAN   \n",
       "2  CERTIFIED-WITHDRAWN                             GOODMAN NETWORKS, INC.   \n",
       "3  CERTIFIED-WITHDRAWN                          PORTS AMERICA GROUP, INC.   \n",
       "4  CERTIFIED-WITHDRAWN  GATES CORPORATION, A WHOLLY-OWNED SUBSIDIARY O...   \n",
       "5            WITHDRAWN                          PEABODY INVESTMENTS CORP.   \n",
       "\n",
       "                        SOC_NAME                     JOB_TITLE  \\\n",
       "1  BIOCHEMISTS AND BIOPHYSICISTS  POSTDOCTORAL RESEARCH FELLOW   \n",
       "2            CHIEF EXECUTIVES232       CHIEF OPERATING OFFICER   \n",
       "3            CHIEF EXECUTIVES232         CHIEF PROCESS OFFICER   \n",
       "4            CHIEF EXECUTIVES232   REGIONAL PRESIDEN, AMERICAS   \n",
       "5            CHIEF EXECUTIVES232  PRESIDENT MONGOLIA AND INDIA   \n",
       "\n",
       "  FULL_TIME_POSITION PREVAILING_WAGE    YEAR                 WORKSITE  \\\n",
       "1                  N           36067  20£1*6      ANN ARBOR, MICHIGAN   \n",
       "2                  Y          242674  20£1*6             PLANO, TEXAS   \n",
       "3                  Y          193066  20£1*6  JERSEY CITY, NEW JERSEY   \n",
       "4                  Y          220314  20£1*6         DENVER, COLORADO   \n",
       "5                  Y        157518.4  20£1*6      ST. LOUIS, MISSOURI   \n",
       "\n",
       "           lon         lat  \n",
       "1  -83.7430378  42.2808256  \n",
       "2  -96.6988856  33.0198431  \n",
       "3  -74.0776417  40.7281575  \n",
       "4  -104.990251  39.7392358  \n",
       "5  -90.1994042  38.6270025  "
      ]
     },
     "execution_count": 3,
     "metadata": {},
     "output_type": "execute_result"
    }
   ],
   "source": [
    "df.head()"
   ]
  },
  {
   "cell_type": "code",
   "execution_count": 4,
   "metadata": {},
   "outputs": [
    {
     "data": {
      "text/plain": [
       "(3002458, 10)"
      ]
     },
     "execution_count": 4,
     "metadata": {},
     "output_type": "execute_result"
    }
   ],
   "source": [
    "df.shape"
   ]
  },
  {
   "cell_type": "code",
   "execution_count": 5,
   "metadata": {},
   "outputs": [
    {
     "data": {
      "text/plain": [
       "CASE_STATUS               13\n",
       "EMPLOYER_NAME             59\n",
       "SOC_NAME               17734\n",
       "JOB_TITLE                 43\n",
       "FULL_TIME_POSITION        15\n",
       "PREVAILING_WAGE           85\n",
       "YEAR                      13\n",
       "WORKSITE                   0\n",
       "lon                   107242\n",
       "lat                   107242\n",
       "dtype: int64"
      ]
     },
     "execution_count": 5,
     "metadata": {},
     "output_type": "execute_result"
    }
   ],
   "source": [
    "df.isna().sum()"
   ]
  },
  {
   "cell_type": "code",
   "execution_count": 6,
   "metadata": {},
   "outputs": [
    {
     "name": "stdout",
     "output_type": "stream",
     "text": [
      "<class 'pandas.core.frame.DataFrame'>\n",
      "Index: 3002458 entries, 1 to 3002458\n",
      "Data columns (total 10 columns):\n",
      "CASE_STATUS           object\n",
      "EMPLOYER_NAME         object\n",
      "SOC_NAME              object\n",
      "JOB_TITLE             object\n",
      "FULL_TIME_POSITION    object\n",
      "PREVAILING_WAGE       object\n",
      "YEAR                  object\n",
      "WORKSITE              object\n",
      "lon                   object\n",
      "lat                   object\n",
      "dtypes: object(10)\n",
      "memory usage: 252.0+ MB\n"
     ]
    }
   ],
   "source": [
    "df.info()"
   ]
  },
  {
   "cell_type": "code",
   "execution_count": 7,
   "metadata": {},
   "outputs": [
    {
     "data": {
      "text/html": [
       "<div>\n",
       "<style scoped>\n",
       "    .dataframe tbody tr th:only-of-type {\n",
       "        vertical-align: middle;\n",
       "    }\n",
       "\n",
       "    .dataframe tbody tr th {\n",
       "        vertical-align: top;\n",
       "    }\n",
       "\n",
       "    .dataframe thead th {\n",
       "        text-align: right;\n",
       "    }\n",
       "</style>\n",
       "<table border=\"1\" class=\"dataframe\">\n",
       "  <thead>\n",
       "    <tr style=\"text-align: right;\">\n",
       "      <th></th>\n",
       "      <th>CASE_STATUS</th>\n",
       "      <th>EMPLOYER_NAME</th>\n",
       "      <th>SOC_NAME</th>\n",
       "      <th>JOB_TITLE</th>\n",
       "      <th>FULL_TIME_POSITION</th>\n",
       "      <th>PREVAILING_WAGE</th>\n",
       "      <th>YEAR</th>\n",
       "      <th>WORKSITE</th>\n",
       "      <th>lon</th>\n",
       "      <th>lat</th>\n",
       "    </tr>\n",
       "  </thead>\n",
       "  <tbody>\n",
       "    <tr>\n",
       "      <th>count</th>\n",
       "      <td>3002445</td>\n",
       "      <td>3002399</td>\n",
       "      <td>2984724</td>\n",
       "      <td>3002415</td>\n",
       "      <td>3002443</td>\n",
       "      <td>3002373</td>\n",
       "      <td>3002445</td>\n",
       "      <td>3002458</td>\n",
       "      <td>2895216</td>\n",
       "      <td>2895216</td>\n",
       "    </tr>\n",
       "    <tr>\n",
       "      <th>unique</th>\n",
       "      <td>8</td>\n",
       "      <td>236120</td>\n",
       "      <td>2141</td>\n",
       "      <td>287770</td>\n",
       "      <td>3</td>\n",
       "      <td>64665</td>\n",
       "      <td>9</td>\n",
       "      <td>18624</td>\n",
       "      <td>6042</td>\n",
       "      <td>4813</td>\n",
       "    </tr>\n",
       "    <tr>\n",
       "      <th>top</th>\n",
       "      <td>CERTIFIED</td>\n",
       "      <td>INFOSYS LIMITED</td>\n",
       "      <td>Computer Systems Analysts</td>\n",
       "      <td>PROGRAMMER ANALYST</td>\n",
       "      <td>Y</td>\n",
       "      <td>60000</td>\n",
       "      <td>20£1*6</td>\n",
       "      <td>NEW YORK, NEW YORK</td>\n",
       "      <td>-74.0059413</td>\n",
       "      <td>40.7127837</td>\n",
       "    </tr>\n",
       "    <tr>\n",
       "      <th>freq</th>\n",
       "      <td>2615623</td>\n",
       "      <td>130592</td>\n",
       "      <td>291170</td>\n",
       "      <td>249038</td>\n",
       "      <td>2576111</td>\n",
       "      <td>7686</td>\n",
       "      <td>647803</td>\n",
       "      <td>191719</td>\n",
       "      <td>150401</td>\n",
       "      <td>118209</td>\n",
       "    </tr>\n",
       "  </tbody>\n",
       "</table>\n",
       "</div>"
      ],
      "text/plain": [
       "       CASE_STATUS    EMPLOYER_NAME                   SOC_NAME  \\\n",
       "count      3002445          3002399                    2984724   \n",
       "unique           8           236120                       2141   \n",
       "top      CERTIFIED  INFOSYS LIMITED  Computer Systems Analysts   \n",
       "freq       2615623           130592                     291170   \n",
       "\n",
       "                 JOB_TITLE FULL_TIME_POSITION PREVAILING_WAGE     YEAR  \\\n",
       "count              3002415            3002443         3002373  3002445   \n",
       "unique              287770                  3           64665        9   \n",
       "top     PROGRAMMER ANALYST                  Y           60000   20£1*6   \n",
       "freq                249038            2576111            7686   647803   \n",
       "\n",
       "                  WORKSITE          lon         lat  \n",
       "count              3002458      2895216     2895216  \n",
       "unique               18624         6042        4813  \n",
       "top     NEW YORK, NEW YORK  -74.0059413  40.7127837  \n",
       "freq                191719       150401      118209  "
      ]
     },
     "execution_count": 7,
     "metadata": {},
     "output_type": "execute_result"
    }
   ],
   "source": [
    "df.describe()"
   ]
  },
  {
   "cell_type": "code",
   "execution_count": 8,
   "metadata": {},
   "outputs": [
    {
     "data": {
      "text/plain": [
       "Index(['CASE_STATUS', 'EMPLOYER_NAME', 'SOC_NAME', 'JOB_TITLE',\n",
       "       'FULL_TIME_POSITION', 'PREVAILING_WAGE', 'YEAR', 'WORKSITE', 'lon',\n",
       "       'lat'],\n",
       "      dtype='object')"
      ]
     },
     "execution_count": 8,
     "metadata": {},
     "output_type": "execute_result"
    }
   ],
   "source": [
    "df.columns"
   ]
  },
  {
   "cell_type": "code",
   "execution_count": 9,
   "metadata": {},
   "outputs": [
    {
     "data": {
      "text/plain": [
       "CERTIFIED                                             2615623\n",
       "CERTIFIED-WITHDRAWN                                    201708\n",
       "DENIED                                                  94346\n",
       "WITHDRAWN                                               89799\n",
       "CERTIFIED-+--WITHDRAWN                                    951\n",
       "PENDING QUALITY AND COMPLIANCE REVIEW - UNASSIGNED         15\n",
       "REJECTED                                                    2\n",
       "INVALIDATED                                                 1\n",
       "Name: CASE_STATUS, dtype: int64"
      ]
     },
     "execution_count": 9,
     "metadata": {},
     "output_type": "execute_result"
    }
   ],
   "source": [
    "df['CASE_STATUS'].value_counts()"
   ]
  },
  {
   "cell_type": "code",
   "execution_count": 10,
   "metadata": {},
   "outputs": [
    {
     "data": {
      "text/plain": [
       "array(['UNIVERSITY OF MICHIGAN', 'GOODMAN NETWORKS, INC.',\n",
       "       'PORTS AMERICA GROUP, INC.', ...,\n",
       "       'ELEGANT SUPER STORES CORPORATE CORP (HDQTRS)',\n",
       "       'TELSEY CAPITAL GROUP LLC', 'J. LOGAN INTERIORS'], dtype=object)"
      ]
     },
     "execution_count": 10,
     "metadata": {},
     "output_type": "execute_result"
    }
   ],
   "source": [
    "df['EMPLOYER_NAME'].unique()"
   ]
  },
  {
   "cell_type": "code",
   "execution_count": 11,
   "metadata": {},
   "outputs": [
    {
     "data": {
      "text/plain": [
       "array(['20£1*6', '2015', 2015, 2014, 2013, 2012, 2011, '2011',\n",
       "       'Twenty eleven', nan], dtype=object)"
      ]
     },
     "execution_count": 11,
     "metadata": {},
     "output_type": "execute_result"
    }
   ],
   "source": [
    "df['YEAR'].unique()"
   ]
  },
  {
   "cell_type": "code",
   "execution_count": 12,
   "metadata": {},
   "outputs": [
    {
     "data": {
      "text/plain": [
       "array(['20£1*6', '2015', '2014', '2013', '2012', '2011', 'Twenty eleven',\n",
       "       '2011.0', 'nan'], dtype=object)"
      ]
     },
     "execution_count": 12,
     "metadata": {},
     "output_type": "execute_result"
    }
   ],
   "source": [
    "df['YEAR']=df['YEAR'].astype('str')\n",
    "df['YEAR'].unique()"
   ]
  },
  {
   "cell_type": "code",
   "execution_count": 13,
   "metadata": {},
   "outputs": [],
   "source": [
    "df['YEAR'].isna().sum()\n",
    "df['YEAR']=df['YEAR'].dropna(axis=0)\n",
    "#df=df[np.isfinite(df['YEAR'])]"
   ]
  },
  {
   "cell_type": "code",
   "execution_count": 14,
   "metadata": {},
   "outputs": [
    {
     "data": {
      "text/plain": [
       "CASE_STATUS               13\n",
       "EMPLOYER_NAME             59\n",
       "SOC_NAME               17734\n",
       "JOB_TITLE                 43\n",
       "FULL_TIME_POSITION        15\n",
       "PREVAILING_WAGE           85\n",
       "YEAR                       0\n",
       "WORKSITE                   0\n",
       "lon                   107242\n",
       "lat                   107242\n",
       "dtype: int64"
      ]
     },
     "execution_count": 14,
     "metadata": {},
     "output_type": "execute_result"
    }
   ],
   "source": [
    "df.isna().sum()"
   ]
  },
  {
   "cell_type": "code",
   "execution_count": 15,
   "metadata": {},
   "outputs": [],
   "source": [
    "#df['YEAR']=df['YEAR'].replace({'20£1*6':2016,'Twenty eleven':2011,'2011':2011,'2015':2015})\n",
    "df['YEAR']=df['YEAR'].replace({'20£1*6':'2016','Twenty eleven':'2011','2011':'2011','2015':'2015','2011.0':'2011'})"
   ]
  },
  {
   "cell_type": "code",
   "execution_count": 16,
   "metadata": {},
   "outputs": [
    {
     "data": {
      "text/plain": [
       "array(['2016', '2015', '2014', '2013', '2012', '2011', 'nan'],\n",
       "      dtype=object)"
      ]
     },
     "execution_count": 16,
     "metadata": {},
     "output_type": "execute_result"
    }
   ],
   "source": [
    "df['YEAR'].unique()\n",
    "#df.dtypes"
   ]
  },
  {
   "cell_type": "code",
   "execution_count": 17,
   "metadata": {},
   "outputs": [],
   "source": [
    "df['YEAR']=pd.to_datetime(df['YEAR'],format='%Y')"
   ]
  },
  {
   "cell_type": "code",
   "execution_count": 18,
   "metadata": {},
   "outputs": [
    {
     "data": {
      "text/plain": [
       "CASE_STATUS                   object\n",
       "EMPLOYER_NAME                 object\n",
       "SOC_NAME                      object\n",
       "JOB_TITLE                     object\n",
       "FULL_TIME_POSITION            object\n",
       "PREVAILING_WAGE               object\n",
       "YEAR                  datetime64[ns]\n",
       "WORKSITE                      object\n",
       "lon                           object\n",
       "lat                           object\n",
       "dtype: object"
      ]
     },
     "execution_count": 18,
     "metadata": {},
     "output_type": "execute_result"
    }
   ],
   "source": [
    "df.dtypes"
   ]
  },
  {
   "cell_type": "code",
   "execution_count": 19,
   "metadata": {},
   "outputs": [
    {
     "data": {
      "text/plain": [
       "1          2016.0\n",
       "2          2016.0\n",
       "3          2016.0\n",
       "4          2016.0\n",
       "5          2016.0\n",
       "6          2016.0\n",
       "7          2016.0\n",
       "8          2016.0\n",
       "9          2016.0\n",
       "10         2016.0\n",
       "11         2016.0\n",
       "12         2016.0\n",
       "13         2016.0\n",
       "14         2016.0\n",
       "15         2016.0\n",
       "16         2016.0\n",
       "17         2016.0\n",
       "18         2016.0\n",
       "19         2016.0\n",
       "20         2016.0\n",
       "21         2016.0\n",
       "22         2016.0\n",
       "23         2016.0\n",
       "24         2016.0\n",
       "25         2016.0\n",
       "26         2016.0\n",
       "27         2016.0\n",
       "28         2016.0\n",
       "29         2016.0\n",
       "30         2016.0\n",
       "            ...  \n",
       "3002429    2011.0\n",
       "3002430    2011.0\n",
       "3002431    2011.0\n",
       "3002432    2011.0\n",
       "3002433    2011.0\n",
       "3002434    2011.0\n",
       "3002435    2011.0\n",
       "3002436    2011.0\n",
       "3002437    2011.0\n",
       "3002438    2011.0\n",
       "3002439    2011.0\n",
       "3002440    2011.0\n",
       "3002441    2011.0\n",
       "3002442    2011.0\n",
       "3002443    2011.0\n",
       "3002444    2011.0\n",
       "3002445    2011.0\n",
       "3002446       NaN\n",
       "3002447       NaN\n",
       "3002448       NaN\n",
       "3002449       NaN\n",
       "3002450       NaN\n",
       "3002451       NaN\n",
       "3002452       NaN\n",
       "3002453       NaN\n",
       "3002454       NaN\n",
       "3002455       NaN\n",
       "3002456       NaN\n",
       "3002457       NaN\n",
       "3002458       NaN\n",
       "Name: YEAR, Length: 3002458, dtype: float64"
      ]
     },
     "execution_count": 19,
     "metadata": {},
     "output_type": "execute_result"
    }
   ],
   "source": [
    "df['YEAR']=pd.DatetimeIndex(df['YEAR']).year\n",
    "#df['YEAR']=df['YEAR'].apply(lambda YEAR:YEAR.year)\n",
    "df['YEAR']"
   ]
  },
  {
   "cell_type": "code",
   "execution_count": 20,
   "metadata": {},
   "outputs": [
    {
     "data": {
      "text/plain": [
       "Index(['CASE_STATUS', 'EMPLOYER_NAME', 'SOC_NAME', 'JOB_TITLE',\n",
       "       'FULL_TIME_POSITION', 'PREVAILING_WAGE', 'YEAR', 'WORKSITE', 'lon',\n",
       "       'lat'],\n",
       "      dtype='object')"
      ]
     },
     "execution_count": 20,
     "metadata": {},
     "output_type": "execute_result"
    }
   ],
   "source": [
    "df.columns"
   ]
  },
  {
   "cell_type": "code",
   "execution_count": 21,
   "metadata": {},
   "outputs": [],
   "source": [
    "df.drop(['lon','lat'],axis=1,inplace=True)"
   ]
  },
  {
   "cell_type": "code",
   "execution_count": 22,
   "metadata": {},
   "outputs": [],
   "source": [
    "#df.replace(np.nan,df.mode(axis=0),inplace=True)"
   ]
  },
  {
   "cell_type": "code",
   "execution_count": 23,
   "metadata": {},
   "outputs": [
    {
     "data": {
      "text/plain": [
       "CASE_STATUS              13\n",
       "EMPLOYER_NAME            59\n",
       "SOC_NAME              17734\n",
       "JOB_TITLE                43\n",
       "FULL_TIME_POSITION       15\n",
       "PREVAILING_WAGE          85\n",
       "YEAR                     13\n",
       "WORKSITE                  0\n",
       "dtype: int64"
      ]
     },
     "execution_count": 23,
     "metadata": {},
     "output_type": "execute_result"
    }
   ],
   "source": [
    "df.isna().sum()"
   ]
  },
  {
   "cell_type": "code",
   "execution_count": 24,
   "metadata": {},
   "outputs": [
    {
     "data": {
      "text/html": [
       "<div>\n",
       "<style scoped>\n",
       "    .dataframe tbody tr th:only-of-type {\n",
       "        vertical-align: middle;\n",
       "    }\n",
       "\n",
       "    .dataframe tbody tr th {\n",
       "        vertical-align: top;\n",
       "    }\n",
       "\n",
       "    .dataframe thead th {\n",
       "        text-align: right;\n",
       "    }\n",
       "</style>\n",
       "<table border=\"1\" class=\"dataframe\">\n",
       "  <thead>\n",
       "    <tr style=\"text-align: right;\">\n",
       "      <th></th>\n",
       "      <th>CASE_STATUS</th>\n",
       "      <th>EMPLOYER_NAME</th>\n",
       "      <th>SOC_NAME</th>\n",
       "      <th>JOB_TITLE</th>\n",
       "      <th>FULL_TIME_POSITION</th>\n",
       "      <th>PREVAILING_WAGE</th>\n",
       "      <th>YEAR</th>\n",
       "      <th>WORKSITE</th>\n",
       "    </tr>\n",
       "  </thead>\n",
       "  <tbody>\n",
       "    <tr>\n",
       "      <th>1</th>\n",
       "      <td>CERTIFIED-WITHDRAWN</td>\n",
       "      <td>UNIVERSITY OF MICHIGAN</td>\n",
       "      <td>BIOCHEMISTS AND BIOPHYSICISTS</td>\n",
       "      <td>POSTDOCTORAL RESEARCH FELLOW</td>\n",
       "      <td>N</td>\n",
       "      <td>36067</td>\n",
       "      <td>2016.0</td>\n",
       "      <td>ANN ARBOR, MICHIGAN</td>\n",
       "    </tr>\n",
       "    <tr>\n",
       "      <th>2</th>\n",
       "      <td>CERTIFIED-WITHDRAWN</td>\n",
       "      <td>GOODMAN NETWORKS, INC.</td>\n",
       "      <td>CHIEF EXECUTIVES232</td>\n",
       "      <td>CHIEF OPERATING OFFICER</td>\n",
       "      <td>Y</td>\n",
       "      <td>242674</td>\n",
       "      <td>2016.0</td>\n",
       "      <td>PLANO, TEXAS</td>\n",
       "    </tr>\n",
       "    <tr>\n",
       "      <th>3</th>\n",
       "      <td>CERTIFIED-WITHDRAWN</td>\n",
       "      <td>PORTS AMERICA GROUP, INC.</td>\n",
       "      <td>CHIEF EXECUTIVES232</td>\n",
       "      <td>CHIEF PROCESS OFFICER</td>\n",
       "      <td>Y</td>\n",
       "      <td>193066</td>\n",
       "      <td>2016.0</td>\n",
       "      <td>JERSEY CITY, NEW JERSEY</td>\n",
       "    </tr>\n",
       "    <tr>\n",
       "      <th>4</th>\n",
       "      <td>CERTIFIED-WITHDRAWN</td>\n",
       "      <td>GATES CORPORATION, A WHOLLY-OWNED SUBSIDIARY O...</td>\n",
       "      <td>CHIEF EXECUTIVES232</td>\n",
       "      <td>REGIONAL PRESIDEN, AMERICAS</td>\n",
       "      <td>Y</td>\n",
       "      <td>220314</td>\n",
       "      <td>2016.0</td>\n",
       "      <td>DENVER, COLORADO</td>\n",
       "    </tr>\n",
       "    <tr>\n",
       "      <th>5</th>\n",
       "      <td>WITHDRAWN</td>\n",
       "      <td>PEABODY INVESTMENTS CORP.</td>\n",
       "      <td>CHIEF EXECUTIVES232</td>\n",
       "      <td>PRESIDENT MONGOLIA AND INDIA</td>\n",
       "      <td>Y</td>\n",
       "      <td>157518.4</td>\n",
       "      <td>2016.0</td>\n",
       "      <td>ST. LOUIS, MISSOURI</td>\n",
       "    </tr>\n",
       "  </tbody>\n",
       "</table>\n",
       "</div>"
      ],
      "text/plain": [
       "           CASE_STATUS                                      EMPLOYER_NAME  \\\n",
       "1  CERTIFIED-WITHDRAWN                             UNIVERSITY OF MICHIGAN   \n",
       "2  CERTIFIED-WITHDRAWN                             GOODMAN NETWORKS, INC.   \n",
       "3  CERTIFIED-WITHDRAWN                          PORTS AMERICA GROUP, INC.   \n",
       "4  CERTIFIED-WITHDRAWN  GATES CORPORATION, A WHOLLY-OWNED SUBSIDIARY O...   \n",
       "5            WITHDRAWN                          PEABODY INVESTMENTS CORP.   \n",
       "\n",
       "                        SOC_NAME                     JOB_TITLE  \\\n",
       "1  BIOCHEMISTS AND BIOPHYSICISTS  POSTDOCTORAL RESEARCH FELLOW   \n",
       "2            CHIEF EXECUTIVES232       CHIEF OPERATING OFFICER   \n",
       "3            CHIEF EXECUTIVES232         CHIEF PROCESS OFFICER   \n",
       "4            CHIEF EXECUTIVES232   REGIONAL PRESIDEN, AMERICAS   \n",
       "5            CHIEF EXECUTIVES232  PRESIDENT MONGOLIA AND INDIA   \n",
       "\n",
       "  FULL_TIME_POSITION PREVAILING_WAGE    YEAR                 WORKSITE  \n",
       "1                  N           36067  2016.0      ANN ARBOR, MICHIGAN  \n",
       "2                  Y          242674  2016.0             PLANO, TEXAS  \n",
       "3                  Y          193066  2016.0  JERSEY CITY, NEW JERSEY  \n",
       "4                  Y          220314  2016.0         DENVER, COLORADO  \n",
       "5                  Y        157518.4  2016.0      ST. LOUIS, MISSOURI  "
      ]
     },
     "execution_count": 24,
     "metadata": {},
     "output_type": "execute_result"
    }
   ],
   "source": [
    "df.head()"
   ]
  },
  {
   "cell_type": "code",
   "execution_count": 25,
   "metadata": {},
   "outputs": [
    {
     "data": {
      "text/plain": [
       "CASE_STATUS            object\n",
       "EMPLOYER_NAME          object\n",
       "SOC_NAME               object\n",
       "JOB_TITLE              object\n",
       "FULL_TIME_POSITION     object\n",
       "PREVAILING_WAGE        object\n",
       "YEAR                  float64\n",
       "WORKSITE               object\n",
       "dtype: object"
      ]
     },
     "execution_count": 25,
     "metadata": {},
     "output_type": "execute_result"
    }
   ],
   "source": [
    "df['PREVAILING_WAGE'].value_counts()\n",
    "df.dtypes"
   ]
  },
  {
   "cell_type": "code",
   "execution_count": 26,
   "metadata": {},
   "outputs": [],
   "source": [
    "#df['PREVAILING_WAGE']=df['PREVAILING_WAGE'].replace({'120£1*63':'120163','420£1*6':'42016','20£1*60':'20160'})\n",
    "#df['PREVAILING_WAGE']=df['PREVAILING_WAGE'].astype(float)\n",
    "#df['PREVAILING_WAGE']=df['PREVAILING_WAGE'].str.contains('£').replace('')\n",
    "#df['PREVAILING_WAGE']=df['PREVAILING_WAGE'].str.contains('*').replace('')\n",
    "#df['PREVAILING_WAGE']=df['PREVAILING_WAGE'].str.strip(\"*\").str.strip(\"£\").astype(float)\n",
    "#df['PREVAILING_WAGE']=df['PREVAILING_WAGE'].astype(float)"
   ]
  },
  {
   "cell_type": "code",
   "execution_count": 27,
   "metadata": {},
   "outputs": [
    {
     "data": {
      "text/plain": [
       "Computer Systems Analysts                             291170\n",
       "SOFTWARE DEVELOPERS, APPLICATIONS                     221783\n",
       "COMPUTER SYSTEMS ANALYSTS                             215353\n",
       "Computer Programmers                                  201540\n",
       "Software Developers, Applications                     192933\n",
       "COMPUTER PROGRAMMERS                                  164477\n",
       "COMPUTER OCCUPATIONS, ALL OTHER                       108555\n",
       "Computer Occupations, All Other                        69315\n",
       "Software Developers, Systems Software                  44500\n",
       "SOFTWARE DEVELOPERS, SYSTEMS SOFTWARE                  39356\n",
       "Management Analysts                                    38755\n",
       "Financial Analysts                                     34141\n",
       "Computer Software Engineers, Applications              33325\n",
       "Accountants and Auditors                               30708\n",
       "MANAGEMENT ANALYSTS                                    28117\n",
       "Mechanical Engineers                                   26219\n",
       "Computer Occupations, All Other*                       25628\n",
       "Computer Pr0grammers                                   25034\n",
       "Electronics Engineers, Except Computer                 23323\n",
       "Electrical Engineers                                   22162\n",
       "Market Research Analysts and Marketing Specialists     22158\n",
       "ACCOUNTANTS AND AUDITORS                               22114\n",
       "Physicians and Surgeons, All Other                     22010\n",
       "Database Administrators                                21937\n",
       "NETWORK AND COMPUTER SYSTEMS ADMINISTRATORS            21642\n",
       "FINANCIAL ANALYSTS                                     19399\n",
       "Operations Research Analysts                           19171\n",
       "Network and Computer Systems Administrators            18445\n",
       "MECHANICAL ENGINEERS                                   18017\n",
       "COMPUTER SYSTEMS ANALYST                               17426\n",
       "                                                       ...  \n",
       "MECHANICAL ENGINEER / PROGRAM MANAGER                      1\n",
       "HEALTH SPECIALITY TEACHER                                  1\n",
       "DESIGNER, ALL OTHER                                        1\n",
       "SEWING MACHINE OPERATORS                                   1\n",
       "DENTISTS                                                   1\n",
       "ENVIRONMENTAL SCIENTIST                                    1\n",
       "SALES AGENTS, SECURITIES AND COMMODITIES                   1\n",
       "Dietitians and Nutritionists, R&D (ACWIA Only)             1\n",
       "WIND ENERGY ENGINEERS                                      1\n",
       "ELEMENTARY SCHOOL TEACHERS, EXCEPT SPEC EDUC               1\n",
       "COMPUTER OCCUPATION, ALL OTHERS                            1\n",
       "COMPUTE PROGRAMMERS                                        1\n",
       "MAINTENANCE AND REPAIR WORKERS, GENERAL                    1\n",
       "ACUPUNCTURISTS                                             1\n",
       "Team Assemblers                                            1\n",
       "COUNTER ATTENDANTS, CAFETERIA, FOOD CONCESSION,            1\n",
       "BARBERS                                                    1\n",
       "SHIP ENGINEERS                                             1\n",
       "MEETING, CONVENTION AND EVENTS PLANNERS                    1\n",
       "POWER DISTRIBUTORS AND DISPATCHERS                         1\n",
       "FOREIGN LANGUAGE LITERATURE TEACHERS, POSTSECOND           1\n",
       "MICROSYSTEMS ENGINEERS                                     1\n",
       "CHEMISTRY TEACHERS, POSTECONDARY                           1\n",
       "COMPUTER Pr0grammers, R&AMP;D                              1\n",
       "Range Managers                                             1\n",
       "PHYSICIANS &AMP; SURGEONS, ALL OTHER                       1\n",
       "TUTORS                                                     1\n",
       "BIOLOGICAL SCIENCE TEACHERS                                1\n",
       "PATHOLOGISTS                                               1\n",
       "SOFTARE DEVELOPERS, APPLICATIONS                           1\n",
       "Name: SOC_NAME, Length: 2141, dtype: int64"
      ]
     },
     "execution_count": 27,
     "metadata": {},
     "output_type": "execute_result"
    }
   ],
   "source": [
    "df['SOC_NAME'].value_counts()"
   ]
  },
  {
   "cell_type": "code",
   "execution_count": 28,
   "metadata": {},
   "outputs": [
    {
     "data": {
      "text/plain": [
       "array(['UNIVERSITY OF MICHIGAN', 'GOODMAN NETWORKS, INC.',\n",
       "       'PORTS AMERICA GROUP, INC.', ...,\n",
       "       'ELEGANT SUPER STORES CORPORATE CORP (HDQTRS)',\n",
       "       'TELSEY CAPITAL GROUP LLC', 'J. LOGAN INTERIORS'], dtype=object)"
      ]
     },
     "execution_count": 28,
     "metadata": {},
     "output_type": "execute_result"
    }
   ],
   "source": [
    "df['EMPLOYER_NAME'].unique()"
   ]
  },
  {
   "cell_type": "code",
   "execution_count": 29,
   "metadata": {},
   "outputs": [
    {
     "data": {
      "text/plain": [
       "CERTIFIED                                             2615623\n",
       "CERTIFIED-WITHDRAWN                                    201708\n",
       "DENIED                                                  94346\n",
       "WITHDRAWN                                               89799\n",
       "CERTIFIED-+--WITHDRAWN                                    951\n",
       "PENDING QUALITY AND COMPLIANCE REVIEW - UNASSIGNED         15\n",
       "REJECTED                                                    2\n",
       "INVALIDATED                                                 1\n",
       "Name: CASE_STATUS, dtype: int64"
      ]
     },
     "execution_count": 29,
     "metadata": {},
     "output_type": "execute_result"
    }
   ],
   "source": [
    "df['CASE_STATUS'].value_counts()"
   ]
  },
  {
   "cell_type": "code",
   "execution_count": 30,
   "metadata": {},
   "outputs": [],
   "source": [
    "import warnings\n",
    "warnings.filterwarnings('ignore')\n",
    "df.CASE_STATUS[df['CASE_STATUS']=='REJECTED']='DENIED'\n",
    "df.CASE_STATUS[df['CASE_STATUS']=='INVALIDATED']='DENIED'\n",
    "df.CASE_STATUS[df['CASE_STATUS']=='PENDING QUALITY AND COMPLIANCE REVIEW - UNASSIGNED']='DENIED'\n",
    "df.CASE_STATUS[df['CASE_STATUS']=='CERTIFIED-+--WITHDRAWN'] = 'CERTIFIED'\n",
    "df.CASE_STATUS[df['CASE_STATUS']=='CERTIFIED-WITHDRAWN'] = 'CERTIFIED'"
   ]
  },
  {
   "cell_type": "code",
   "execution_count": 31,
   "metadata": {},
   "outputs": [
    {
     "data": {
      "text/plain": [
       "CERTIFIED    2818282\n",
       "DENIED         94364\n",
       "WITHDRAWN      89799\n",
       "Name: CASE_STATUS, dtype: int64"
      ]
     },
     "execution_count": 31,
     "metadata": {},
     "output_type": "execute_result"
    }
   ],
   "source": [
    "df.CASE_STATUS.value_counts()"
   ]
  },
  {
   "cell_type": "code",
   "execution_count": 32,
   "metadata": {},
   "outputs": [
    {
     "data": {
      "text/plain": [
       "Index(['CASE_STATUS', 'EMPLOYER_NAME', 'SOC_NAME', 'JOB_TITLE',\n",
       "       'FULL_TIME_POSITION', 'PREVAILING_WAGE', 'YEAR', 'WORKSITE'],\n",
       "      dtype='object')"
      ]
     },
     "execution_count": 32,
     "metadata": {},
     "output_type": "execute_result"
    }
   ],
   "source": [
    "df.columns"
   ]
  },
  {
   "cell_type": "code",
   "execution_count": 33,
   "metadata": {},
   "outputs": [
    {
     "data": {
      "text/plain": [
       "count             3002399\n",
       "unique             236120\n",
       "top       INFOSYS LIMITED\n",
       "freq               130592\n",
       "Name: EMPLOYER_NAME, dtype: object"
      ]
     },
     "execution_count": 33,
     "metadata": {},
     "output_type": "execute_result"
    }
   ],
   "source": [
    "df['EMPLOYER_NAME'].describe()"
   ]
  },
  {
   "cell_type": "code",
   "execution_count": 34,
   "metadata": {},
   "outputs": [],
   "source": [
    "df=df.drop(df[df['CASE_STATUS']=='WITHDRAWN'].index)"
   ]
  },
  {
   "cell_type": "code",
   "execution_count": 35,
   "metadata": {},
   "outputs": [
    {
     "data": {
      "text/plain": [
       "CERTIFIED    2818282\n",
       "DENIED         94364\n",
       "Name: CASE_STATUS, dtype: int64"
      ]
     },
     "execution_count": 35,
     "metadata": {},
     "output_type": "execute_result"
    }
   ],
   "source": [
    "df['CASE_STATUS'].value_counts()"
   ]
  },
  {
   "cell_type": "code",
   "execution_count": 36,
   "metadata": {},
   "outputs": [
    {
     "data": {
      "text/plain": [
       "CERTIFIED    2818282\n",
       "DENIED         94364\n",
       "Name: CASE_STATUS, dtype: int64"
      ]
     },
     "execution_count": 36,
     "metadata": {},
     "output_type": "execute_result"
    }
   ],
   "source": [
    "df=df[df['CASE_STATUS'].notnull()]\n",
    "df['CASE_STATUS'].value_counts()"
   ]
  },
  {
   "cell_type": "code",
   "execution_count": 37,
   "metadata": {},
   "outputs": [
    {
     "data": {
      "text/plain": [
       "CASE_STATUS               0\n",
       "EMPLOYER_NAME            18\n",
       "SOC_NAME              17073\n",
       "JOB_TITLE                10\n",
       "FULL_TIME_POSITION        1\n",
       "PREVAILING_WAGE          53\n",
       "YEAR                      0\n",
       "WORKSITE                  0\n",
       "dtype: int64"
      ]
     },
     "execution_count": 37,
     "metadata": {},
     "output_type": "execute_result"
    }
   ],
   "source": [
    "df.isna().sum()"
   ]
  },
  {
   "cell_type": "code",
   "execution_count": 38,
   "metadata": {},
   "outputs": [],
   "source": [
    "#df['EMPLOYER_NAME']=df['EMPLOYER_NAME'].fillna(df['EMPLOYER_NAME'].mode()[0])\n",
    "df['EMPLOYER_NAME'] = df['EMPLOYER_NAME'].fillna(df['EMPLOYER_NAME'].mode()[0])"
   ]
  },
  {
   "cell_type": "code",
   "execution_count": 39,
   "metadata": {},
   "outputs": [
    {
     "data": {
      "text/plain": [
       "'INFOSYS LIMITED'"
      ]
     },
     "execution_count": 39,
     "metadata": {},
     "output_type": "execute_result"
    }
   ],
   "source": [
    "df['EMPLOYER_NAME'].mode()[0]#Mode with categorical variables"
   ]
  },
  {
   "cell_type": "code",
   "execution_count": 40,
   "metadata": {},
   "outputs": [],
   "source": [
    "assert pd.notnull(df['EMPLOYER_NAME']).all().all()"
   ]
  },
  {
   "cell_type": "code",
   "execution_count": 41,
   "metadata": {},
   "outputs": [],
   "source": [
    "df['PREVAILING_WAGE']=df['PREVAILING_WAGE'].str.replace(\"\\*\",'').str.replace(\"\\£\",'').str.replace('3Twenty eleven','32011')"
   ]
  },
  {
   "cell_type": "code",
   "execution_count": 42,
   "metadata": {},
   "outputs": [],
   "source": [
    "df['PREVAILING_WAGE']=df['PREVAILING_WAGE'].astype(float)"
   ]
  },
  {
   "cell_type": "code",
   "execution_count": 43,
   "metadata": {},
   "outputs": [
    {
     "data": {
      "text/plain": [
       "443978"
      ]
     },
     "execution_count": 43,
     "metadata": {},
     "output_type": "execute_result"
    }
   ],
   "source": [
    "df['PREVAILING_WAGE'].isnull().sum()"
   ]
  },
  {
   "cell_type": "code",
   "execution_count": null,
   "metadata": {},
   "outputs": [],
   "source": []
  },
  {
   "cell_type": "code",
   "execution_count": 44,
   "metadata": {},
   "outputs": [],
   "source": [
    "#Replacing the zeros with the median\n",
    "#df['PREVAILING_WAGE']=df['PREVAILING_WAGE'].replace(0,df['PREVAILING_WAGE'].median())\n",
    "#df['PREVAILING_WAGE']=df['PREVAILING_WAGE'].replace(df['PREVAILING_WAGE'].isna(),df['PREVAILING_WAGE'].median())"
   ]
  },
  {
   "cell_type": "code",
   "execution_count": 45,
   "metadata": {},
   "outputs": [
    {
     "data": {
      "text/plain": [
       "0.0    25\n",
       "Name: PREVAILING_WAGE, dtype: int64"
      ]
     },
     "execution_count": 45,
     "metadata": {},
     "output_type": "execute_result"
    }
   ],
   "source": [
    "df['PREVAILING_WAGE'][df['PREVAILING_WAGE']==0].value_counts()"
   ]
  },
  {
   "cell_type": "code",
   "execution_count": 46,
   "metadata": {},
   "outputs": [
    {
     "name": "stdout",
     "output_type": "stream",
     "text": [
      "142438.0\n"
     ]
    }
   ],
   "source": [
    "#prints the 98th percentile ignoring the nulls\n",
    "print(np.nanpercentile(df['PREVAILING_WAGE'],98))"
   ]
  },
  {
   "cell_type": "code",
   "execution_count": 47,
   "metadata": {},
   "outputs": [
    {
     "name": "stdout",
     "output_type": "stream",
     "text": [
      "33384.0\n"
     ]
    }
   ],
   "source": [
    "print(np.nanpercentile(df['PREVAILING_WAGE'],2))"
   ]
  },
  {
   "cell_type": "code",
   "execution_count": 48,
   "metadata": {},
   "outputs": [],
   "source": [
    "## replacing min and max with 2 and 98 percentile\n",
    "df.loc[df.PREVAILING_WAGE < 33384, 'PREVAILING_WAGE']= 33384\n",
    "df.loc[df['PREVAILING_WAGE'] > 142438, 'PREVAILING_WAGE']= 142438\n",
    "df.PREVAILING_WAGE.fillna(df.PREVAILING_WAGE.mean(), inplace = True)"
   ]
  },
  {
   "cell_type": "code",
   "execution_count": 49,
   "metadata": {},
   "outputs": [],
   "source": [
    "df.replace(np.nan,df.mode(axis=0),inplace=True)"
   ]
  },
  {
   "cell_type": "code",
   "execution_count": 50,
   "metadata": {},
   "outputs": [
    {
     "name": "stdout",
     "output_type": "stream",
     "text": [
      "0.9676019674206889\n",
      "0.8587040786968275\n"
     ]
    }
   ],
   "source": [
    "x=df['CASE_STATUS']=='CERTIFIED'\n",
    "y=df['FULL_TIME_POSITION']=='Y'\n",
    "print(len(df[x])/len(df))\n",
    "print(len(df[y])/len(df))"
   ]
  },
  {
   "cell_type": "markdown",
   "metadata": {},
   "source": [
    "# Feature Creation"
   ]
  },
  {
   "cell_type": "code",
   "execution_count": 51,
   "metadata": {},
   "outputs": [
    {
     "data": {
      "text/plain": [
       "(2912646, 9)"
      ]
     },
     "execution_count": 51,
     "metadata": {},
     "output_type": "execute_result"
    }
   ],
   "source": [
    "df['NEW_EMPLOYER']=np.nan\n",
    "df.shape"
   ]
  },
  {
   "cell_type": "code",
   "execution_count": 52,
   "metadata": {},
   "outputs": [],
   "source": [
    "warnings.filterwarnings('ignore')\n",
    "df['EMPLOYER_NAME']=df['EMPLOYER_NAME'].str.lower()\n"
   ]
  },
  {
   "cell_type": "code",
   "execution_count": 53,
   "metadata": {},
   "outputs": [],
   "source": [
    "#df[df['EMPLOYER_NAME'].str.contains('university')].sum()"
   ]
  },
  {
   "cell_type": "code",
   "execution_count": 54,
   "metadata": {},
   "outputs": [],
   "source": [
    "df.NEW_EMPLOYER[df['EMPLOYER_NAME'].str.contains('university')]='university'"
   ]
  },
  {
   "cell_type": "code",
   "execution_count": 55,
   "metadata": {},
   "outputs": [],
   "source": [
    "df['NEW_EMPLOYER']=df.NEW_EMPLOYER.replace(np.nan,'non university',regex=True)"
   ]
  },
  {
   "cell_type": "code",
   "execution_count": 56,
   "metadata": {},
   "outputs": [],
   "source": [
    "warnings.filterwarnings('ignore')\n",
    "df['OCCUPATION']=np.nan\n",
    "df['SOC_NAME']=df['SOC_NAME'].str.lower()\n",
    "df.OCCUPATION[df['SOC_NAME'].str.contains('computer','programmer')] = 'computer occupations'\n",
    "df.OCCUPATION[df['SOC_NAME'].str.contains('software','web developer')] = 'computer occupations'\n",
    "df.OCCUPATION[df['SOC_NAME'].str.contains('database')] = 'computer occupations'\n",
    "df.OCCUPATION[df['SOC_NAME'].str.contains('math','statistic')] = 'Mathematical Occupations'\n",
    "df.OCCUPATION[df['SOC_NAME'].str.contains('predictive model','stats')] = 'Mathematical Occupations'\n",
    "df.OCCUPATION[df['SOC_NAME'].str.contains('teacher','linguist')] = 'Education Occupations'\n",
    "df.OCCUPATION[df['SOC_NAME'].str.contains('professor','Teach')] = 'Education Occupations'\n",
    "df.OCCUPATION[df['SOC_NAME'].str.contains('school principal')] = 'Education Occupations'\n",
    "df.OCCUPATION[df['SOC_NAME'].str.contains('medical','doctor')] = 'Medical Occupations'\n",
    "df.OCCUPATION[df['SOC_NAME'].str.contains('physician','dentist')] = 'Medical Occupations'\n",
    "df.OCCUPATION[df['SOC_NAME'].str.contains('Health','Physical Therapists')] = 'Medical Occupations'\n",
    "df.OCCUPATION[df['SOC_NAME'].str.contains('surgeon','nurse')] = 'Medical Occupations'\n",
    "df.OCCUPATION[df['SOC_NAME'].str.contains('psychiatr')] = 'Medical Occupations'\n",
    "df.OCCUPATION[df['SOC_NAME'].str.contains('chemist','physicist')] = 'Advance Sciences'\n",
    "df.OCCUPATION[df['SOC_NAME'].str.contains('biology','scientist')] = 'Advance Sciences'\n",
    "df.OCCUPATION[df['SOC_NAME'].str.contains('biologi','clinical research')] = 'Advance Sciences'\n",
    "df.OCCUPATION[df['SOC_NAME'].str.contains('public relation','manage')] = 'Management Occupation'\n",
    "df.OCCUPATION[df['SOC_NAME'].str.contains('management','operation')] = 'Management Occupation'\n",
    "df.OCCUPATION[df['SOC_NAME'].str.contains('chief','plan')] = 'Management Occupation'\n",
    "df.OCCUPATION[df['SOC_NAME'].str.contains('executive')] = 'Management Occupation'\n",
    "df.OCCUPATION[df['SOC_NAME'].str.contains('advertis','marketing')] = 'Marketing Occupation'\n",
    "df.OCCUPATION[df['SOC_NAME'].str.contains('promotion','market research')] = 'Marketing Occupation'\n",
    "df.OCCUPATION[df['SOC_NAME'].str.contains('business','business analyst')] = 'Business Occupation'\n",
    "df.OCCUPATION[df['SOC_NAME'].str.contains('business systems analyst')] = 'Business Occupation'\n",
    "df.OCCUPATION[df['SOC_NAME'].str.contains('accountant','finance')] = 'Financial Occupation'\n",
    "df.OCCUPATION[df['SOC_NAME'].str.contains('financial')] = 'Financial Occupation'\n",
    "df.OCCUPATION[df['SOC_NAME'].str.contains('engineer','architect')] = 'Architecture & Engineering'\n",
    "df.OCCUPATION[df['SOC_NAME'].str.contains('surveyor','carto')] = 'Architecture & Engineering'\n",
    "df.OCCUPATION[df['SOC_NAME'].str.contains('technician','drafter')] = 'Architecture & Engineering'\n",
    "df.OCCUPATION[df['SOC_NAME'].str.contains('information security','information tech')] = 'Architecture & Engineering'\n",
    "df['OCCUPATION']= df.OCCUPATION.replace(np.nan, 'Others', regex=True)"
   ]
  },
  {
   "cell_type": "code",
   "execution_count": 57,
   "metadata": {},
   "outputs": [
    {
     "data": {
      "text/plain": [
       "NEW YORK, NEW YORK                       185817\n",
       "HOUSTON, TEXAS                            81205\n",
       "SAN FRANCISCO, CALIFORNIA                 61041\n",
       "ATLANTA, GEORGIA                          50675\n",
       "CHICAGO, ILLINOIS                         49975\n",
       "SAN JOSE, CALIFORNIA                      48786\n",
       "SUNNYVALE, CALIFORNIA                     34032\n",
       "BOSTON, MASSACHUSETTS                     30657\n",
       "DALLAS, TEXAS                             30640\n",
       "REDMOND, WASHINGTON                       30057\n",
       "CHARLOTTE, NORTH CAROLINA                 29627\n",
       "MOUNTAIN VIEW, CALIFORNIA                 28709\n",
       "IRVING, TEXAS                             28495\n",
       "SAN DIEGO, CALIFORNIA                     27827\n",
       "SANTA CLARA, CALIFORNIA                   26959\n",
       "JERSEY CITY, NEW JERSEY                   26365\n",
       "AUSTIN, TEXAS                             26095\n",
       "SEATTLE, WASHINGTON                       26042\n",
       "LOS ANGELES, CALIFORNIA                   25694\n",
       "PHILADELPHIA, PENNSYLVANIA                23747\n",
       "PHOENIX, ARIZONA                          20945\n",
       "BELLEVUE, WASHINGTON                      20738\n",
       "PLANO, TEXAS                              20218\n",
       "WASHINGTON, DISTRICT OF COLUMBIA          19748\n",
       "ALPHARETTA, GEORGIA                       17796\n",
       "IRVINE, CALIFORNIA                        16499\n",
       "COLUMBUS, OHIO                            16126\n",
       "MIAMI, FLORIDA                            16106\n",
       "PALO ALTO, CALIFORNIA                     16095\n",
       "TAMPA, FLORIDA                            15226\n",
       "                                          ...  \n",
       "HOPE, NEW JERSEY                              1\n",
       "COLD SPRING, KENTUCKY                         1\n",
       "MT LAUREL, UTAH                               1\n",
       "BARNESVILLE, WEST VIRGINIA                    1\n",
       "ADAMS CENTER, NEW YORK                        1\n",
       "CHESTER, CALIFORNIA                           1\n",
       "MEQUON, NEW JERSEY                            1\n",
       "HILLSVILLE, VIRGINIA                          1\n",
       "1100 CIRCLE 75 PARKWAY, GEORGIA               1\n",
       "WESTFIELD, ILLINOIS                           1\n",
       "HOUSTON, DELAWARE                             1\n",
       "FOREST CITY, PENNSYLVANIA                     1\n",
       "CHUBBUCK, IDAHO                               1\n",
       "OMAHA, PENNSYLVANIA                           1\n",
       "NOKOMIS, ILLINOIS                             1\n",
       "11TH FLOOR, NEW YORK                          1\n",
       "GIRARD, ILLINOIS                              1\n",
       "ARDEN, MINNESOTA                              1\n",
       "EMMAUS, OHIO                                  1\n",
       "JACKSON, SOUTH CAROLINA                       1\n",
       "SOUTHGATE, CALIFORNIA                         1\n",
       "PORTLAND OR, OREGON                           1\n",
       "PITTSBURGH, ILLINOIS                          1\n",
       "MANITO, ILLINOIS                              1\n",
       "VALDEZ, ALASKA                                1\n",
       "CUMMING, FLORIDA                              1\n",
       "MARLBOROUGH, MAINE                            1\n",
       "FALMOUTH, VIRGINIA                            1\n",
       "110 FRANKLIN ROAD SOUTHEAST, VIRGINIA         1\n",
       "QUINCY, OHIO                                  1\n",
       "Name: WORKSITE, Length: 18178, dtype: int64"
      ]
     },
     "execution_count": 57,
     "metadata": {},
     "output_type": "execute_result"
    }
   ],
   "source": [
    "df.WORKSITE.value_counts()"
   ]
  },
  {
   "cell_type": "code",
   "execution_count": 58,
   "metadata": {},
   "outputs": [],
   "source": [
    "## Splitting city and state and capturing state in another variable\n",
    "df['state'] = df.WORKSITE.str.split('\\s+').str[-1]"
   ]
  },
  {
   "cell_type": "code",
   "execution_count": 59,
   "metadata": {},
   "outputs": [
    {
     "data": {
      "text/plain": [
       "1    MICHIGAN\n",
       "2       TEXAS\n",
       "3      JERSEY\n",
       "4    COLORADO\n",
       "6     FLORIDA\n",
       "Name: state, dtype: object"
      ]
     },
     "execution_count": 59,
     "metadata": {},
     "output_type": "execute_result"
    }
   ],
   "source": [
    "df['state'].head()"
   ]
  },
  {
   "cell_type": "code",
   "execution_count": 60,
   "metadata": {},
   "outputs": [
    {
     "name": "stdout",
     "output_type": "stream",
     "text": [
      "  CASE_STATUS                                      EMPLOYER_NAME  \\\n",
      "1   CERTIFIED                             university of michigan   \n",
      "2   CERTIFIED                             goodman networks, inc.   \n",
      "3   CERTIFIED                          ports america group, inc.   \n",
      "4   CERTIFIED  gates corporation, a wholly-owned subsidiary o...   \n",
      "6   CERTIFIED                            burger king corporation   \n",
      "\n",
      "                        SOC_NAME  \\\n",
      "1  biochemists and biophysicists   \n",
      "2            chief executives232   \n",
      "3            chief executives232   \n",
      "4            chief executives232   \n",
      "6            chief executives232   \n",
      "\n",
      "                                           JOB_TITLE FULL_TIME_POSITION  \\\n",
      "1                       POSTDOCTORAL RESEARCH FELLOW                  N   \n",
      "2                            CHIEF OPERATING OFFICER                  Y   \n",
      "3                              CHIEF PROCESS OFFICER                  Y   \n",
      "4                        REGIONAL PRESIDEN, AMERICAS                  Y   \n",
      "6  EXECUTIVE V P, GLOBAL DEVELOPMENT AND PRESIDEN...                  Y   \n",
      "\n",
      "   PREVAILING_WAGE    YEAR                 WORKSITE    NEW_EMPLOYER  \\\n",
      "1          36067.0  2016.0      ANN ARBOR, MICHIGAN      university   \n",
      "2         142438.0  2016.0             PLANO, TEXAS  non university   \n",
      "3         142438.0  2016.0  JERSEY CITY, NEW JERSEY  non university   \n",
      "4         142438.0  2016.0         DENVER, COLORADO  non university   \n",
      "6         142438.0  2016.0           MIAMI, FLORIDA  non university   \n",
      "\n",
      "              OCCUPATION     state  \n",
      "1       Advance Sciences  MICHIGAN  \n",
      "2  Management Occupation     TEXAS  \n",
      "3  Management Occupation    JERSEY  \n",
      "4  Management Occupation  COLORADO  \n",
      "6  Management Occupation   FLORIDA  \n"
     ]
    }
   ],
   "source": [
    "print(df.head())"
   ]
  },
  {
   "cell_type": "markdown",
   "metadata": {},
   "source": [
    "## Machine Learning"
   ]
  },
  {
   "cell_type": "code",
   "execution_count": 61,
   "metadata": {},
   "outputs": [
    {
     "name": "stdout",
     "output_type": "stream",
     "text": [
      "Done importing\n"
     ]
    }
   ],
   "source": [
    "import pandas as pd\n",
    "import numpy as np\n",
    "from sklearn import preprocessing\n",
    "from sklearn.model_selection import train_test_split\n",
    "from sklearn.ensemble import RandomForestRegressor, GradientBoostingRegressor\n",
    "from sklearn.linear_model import LogisticRegression\n",
    "from sklearn import metrics\n",
    "import xgboost as xgb\n",
    "from sklearn.metrics import mean_squared_error\n",
    "print('Done importing')"
   ]
  },
  {
   "cell_type": "code",
   "execution_count": 62,
   "metadata": {},
   "outputs": [],
   "source": [
    "#df=pd.get_dummies(df,columns=['CASE_STATUS'])\n",
    "df[\"CASE_STATUS\"]=df[\"CASE_STATUS\"].map({'CERTIFIED':0, 'DENIED':1})"
   ]
  },
  {
   "cell_type": "code",
   "execution_count": 63,
   "metadata": {},
   "outputs": [
    {
     "data": {
      "text/plain": [
       "Index(['CASE_STATUS', 'EMPLOYER_NAME', 'SOC_NAME', 'JOB_TITLE',\n",
       "       'FULL_TIME_POSITION', 'PREVAILING_WAGE', 'YEAR', 'WORKSITE',\n",
       "       'NEW_EMPLOYER', 'OCCUPATION', 'state'],\n",
       "      dtype='object')"
      ]
     },
     "execution_count": 63,
     "metadata": {},
     "output_type": "execute_result"
    }
   ],
   "source": [
    "df.columns"
   ]
  },
  {
   "cell_type": "code",
   "execution_count": 64,
   "metadata": {},
   "outputs": [
    {
     "data": {
      "text/plain": [
       "array(['POSTDOCTORAL RESEARCH FELLOW', 'CHIEF OPERATING OFFICER',\n",
       "       'CHIEF PROCESS OFFICER', ..., 'CHEMISTRY  - SCIENCE TEACHER',\n",
       "       'SALES AND LOGISTIC MANAGER', 'APPRAISERS, REAL ESTATE'],\n",
       "      dtype=object)"
      ]
     },
     "execution_count": 64,
     "metadata": {},
     "output_type": "execute_result"
    }
   ],
   "source": [
    "test1=pd.Series(df['JOB_TITLE'].ravel()).unique()#Return the flattened underlying data as an ndarray.\n",
    "test1"
   ]
  },
  {
   "cell_type": "code",
   "execution_count": 65,
   "metadata": {},
   "outputs": [],
   "source": [
    "df=df.drop(columns=['EMPLOYER_NAME','SOC_NAME','JOB_TITLE','WORKSITE'])"
   ]
  },
  {
   "cell_type": "code",
   "execution_count": 66,
   "metadata": {},
   "outputs": [],
   "source": [
    "data=df.copy()"
   ]
  },
  {
   "cell_type": "code",
   "execution_count": 67,
   "metadata": {},
   "outputs": [],
   "source": [
    "data[['CASE_STATUS','FULL_TIME_POSITION', 'YEAR','NEW_EMPLOYER','OCCUPATION','state']] = data[['CASE_STATUS','FULL_TIME_POSITION', 'YEAR','NEW_EMPLOYER','OCCUPATION','state']].apply(lambda x:x.astype('category'))"
   ]
  },
  {
   "cell_type": "code",
   "execution_count": 68,
   "metadata": {},
   "outputs": [
    {
     "name": "stdout",
     "output_type": "stream",
     "text": [
      "<class 'pandas.core.frame.DataFrame'>\n",
      "Index: 2912646 entries, 1 to 3002393\n",
      "Data columns (total 7 columns):\n",
      "CASE_STATUS           category\n",
      "FULL_TIME_POSITION    category\n",
      "PREVAILING_WAGE       float64\n",
      "YEAR                  category\n",
      "NEW_EMPLOYER          category\n",
      "OCCUPATION            category\n",
      "state                 category\n",
      "dtypes: category(6), float64(1)\n",
      "memory usage: 61.1+ MB\n"
     ]
    }
   ],
   "source": [
    "data.info()\n",
    "df=df.drop(columns=['state', 'YEAR'])"
   ]
  },
  {
   "cell_type": "code",
   "execution_count": 69,
   "metadata": {},
   "outputs": [],
   "source": [
    "df=pd.get_dummies(df,columns=['FULL_TIME_POSITION','NEW_EMPLOYER','OCCUPATION'])\n"
   ]
  },
  {
   "cell_type": "code",
   "execution_count": 70,
   "metadata": {},
   "outputs": [],
   "source": [
    "x=df.drop('CASE_STATUS', axis=1)\n",
    "y=df.CASE_STATUS"
   ]
  },
  {
   "cell_type": "code",
   "execution_count": 71,
   "metadata": {},
   "outputs": [],
   "source": [
    "x_train,x_test,y_train,y_test=train_test_split(x,y, test_size=0.4,random_state=5)"
   ]
  },
  {
   "cell_type": "code",
   "execution_count": null,
   "metadata": {},
   "outputs": [],
   "source": []
  },
  {
   "cell_type": "code",
   "execution_count": 72,
   "metadata": {},
   "outputs": [],
   "source": [
    "lr=LogisticRegression()\n",
    "knn=\n",
    "gb=GradientBoostingClassifier(n_estimators=60)\n",
    "gbm=xgb.XGBClassifier()"
   ]
  },
  {
   "cell_type": "markdown",
   "metadata": {},
   "source": [
    "## XGBoost"
   ]
  },
  {
   "cell_type": "code",
   "execution_count": 73,
   "metadata": {},
   "outputs": [
    {
     "data": {
      "text/plain": [
       "XGBClassifier(base_score=0.5, booster='gbtree', colsample_bylevel=1,\n",
       "       colsample_bytree=1, gamma=0, learning_rate=0.1, max_delta_step=0,\n",
       "       max_depth=3, min_child_weight=1, missing=None, n_estimators=100,\n",
       "       n_jobs=1, nthread=None, objective='binary:logistic', random_state=0,\n",
       "       reg_alpha=0, reg_lambda=1, scale_pos_weight=1, seed=None,\n",
       "       silent=True, subsample=1)"
      ]
     },
     "execution_count": 73,
     "metadata": {},
     "output_type": "execute_result"
    }
   ],
   "source": [
    "gbm.fit(x_train,y_train)"
   ]
  },
  {
   "cell_type": "code",
   "execution_count": 74,
   "metadata": {},
   "outputs": [],
   "source": [
    "xgpreds = gbm.predict(x_test)"
   ]
  },
  {
   "cell_type": "code",
   "execution_count": 75,
   "metadata": {},
   "outputs": [
    {
     "name": "stdout",
     "output_type": "stream",
     "text": [
      "RMSE: 0.180338\n"
     ]
    }
   ],
   "source": [
    "rmse = np.sqrt(mean_squared_error(y_test, xgpreds))\n",
    "print(\"RMSE: %f\" % (rmse))"
   ]
  },
  {
   "cell_type": "code",
   "execution_count": null,
   "metadata": {},
   "outputs": [],
   "source": [
    "print(classification_report(y_test,xgpreds))"
   ]
  },
  {
   "cell_type": "markdown",
   "metadata": {},
   "source": [
    "## Linear Regression"
   ]
  },
  {
   "cell_type": "code",
   "execution_count": 76,
   "metadata": {},
   "outputs": [
    {
     "data": {
      "text/plain": [
       "LinearRegression(copy_X=True, fit_intercept=True, n_jobs=None,\n",
       "         normalize=False)"
      ]
     },
     "execution_count": 76,
     "metadata": {},
     "output_type": "execute_result"
    }
   ],
   "source": [
    "lr.fit(x_train,y_train)"
   ]
  },
  {
   "cell_type": "code",
   "execution_count": 77,
   "metadata": {},
   "outputs": [],
   "source": [
    "lrpreds = lr.predict(x_test)"
   ]
  },
  {
   "cell_type": "code",
   "execution_count": 78,
   "metadata": {},
   "outputs": [
    {
     "name": "stdout",
     "output_type": "stream",
     "text": [
      "RMSE: 0.175982\n"
     ]
    }
   ],
   "source": [
    "rmse = np.sqrt(mean_squared_error(y_test, lrpreds))\n",
    "print(\"RMSE: %f\" % (rmse))"
   ]
  },
  {
   "cell_type": "code",
   "execution_count": null,
   "metadata": {},
   "outputs": [],
   "source": [
    "print(classification_report(y_test,lrpreds))"
   ]
  },
  {
   "cell_type": "markdown",
   "metadata": {},
   "source": [
    "## KNN"
   ]
  },
  {
   "cell_type": "code",
   "execution_count": 79,
   "metadata": {},
   "outputs": [
    {
     "ename": "KeyboardInterrupt",
     "evalue": "",
     "output_type": "error",
     "traceback": [
      "\u001b[1;31m---------------------------------------------------------------------------\u001b[0m",
      "\u001b[1;31mKeyboardInterrupt\u001b[0m                         Traceback (most recent call last)",
      "\u001b[1;32m<ipython-input-79-895403b03771>\u001b[0m in \u001b[0;36m<module>\u001b[1;34m\u001b[0m\n\u001b[1;32m----> 1\u001b[1;33m \u001b[0mrf\u001b[0m\u001b[1;33m.\u001b[0m\u001b[0mfit\u001b[0m\u001b[1;33m(\u001b[0m\u001b[0mx_train\u001b[0m\u001b[1;33m,\u001b[0m\u001b[0my_train\u001b[0m\u001b[1;33m)\u001b[0m\u001b[1;33m\u001b[0m\u001b[1;33m\u001b[0m\u001b[0m\n\u001b[0m",
      "\u001b[1;32m~\\AppData\\Local\\Continuum\\anaconda\\lib\\site-packages\\sklearn\\ensemble\\forest.py\u001b[0m in \u001b[0;36mfit\u001b[1;34m(self, X, y, sample_weight)\u001b[0m\n\u001b[0;32m    331\u001b[0m                     \u001b[0mt\u001b[0m\u001b[1;33m,\u001b[0m \u001b[0mself\u001b[0m\u001b[1;33m,\u001b[0m \u001b[0mX\u001b[0m\u001b[1;33m,\u001b[0m \u001b[0my\u001b[0m\u001b[1;33m,\u001b[0m \u001b[0msample_weight\u001b[0m\u001b[1;33m,\u001b[0m \u001b[0mi\u001b[0m\u001b[1;33m,\u001b[0m \u001b[0mlen\u001b[0m\u001b[1;33m(\u001b[0m\u001b[0mtrees\u001b[0m\u001b[1;33m)\u001b[0m\u001b[1;33m,\u001b[0m\u001b[1;33m\u001b[0m\u001b[1;33m\u001b[0m\u001b[0m\n\u001b[0;32m    332\u001b[0m                     verbose=self.verbose, class_weight=self.class_weight)\n\u001b[1;32m--> 333\u001b[1;33m                 for i, t in enumerate(trees))\n\u001b[0m\u001b[0;32m    334\u001b[0m \u001b[1;33m\u001b[0m\u001b[0m\n\u001b[0;32m    335\u001b[0m             \u001b[1;31m# Collect newly grown trees\u001b[0m\u001b[1;33m\u001b[0m\u001b[1;33m\u001b[0m\u001b[1;33m\u001b[0m\u001b[0m\n",
      "\u001b[1;32m~\\AppData\\Local\\Continuum\\anaconda\\lib\\site-packages\\sklearn\\externals\\joblib\\parallel.py\u001b[0m in \u001b[0;36m__call__\u001b[1;34m(self, iterable)\u001b[0m\n\u001b[0;32m    928\u001b[0m \u001b[1;33m\u001b[0m\u001b[0m\n\u001b[0;32m    929\u001b[0m             \u001b[1;32mwith\u001b[0m \u001b[0mself\u001b[0m\u001b[1;33m.\u001b[0m\u001b[0m_backend\u001b[0m\u001b[1;33m.\u001b[0m\u001b[0mretrieval_context\u001b[0m\u001b[1;33m(\u001b[0m\u001b[1;33m)\u001b[0m\u001b[1;33m:\u001b[0m\u001b[1;33m\u001b[0m\u001b[1;33m\u001b[0m\u001b[0m\n\u001b[1;32m--> 930\u001b[1;33m                 \u001b[0mself\u001b[0m\u001b[1;33m.\u001b[0m\u001b[0mretrieve\u001b[0m\u001b[1;33m(\u001b[0m\u001b[1;33m)\u001b[0m\u001b[1;33m\u001b[0m\u001b[1;33m\u001b[0m\u001b[0m\n\u001b[0m\u001b[0;32m    931\u001b[0m             \u001b[1;31m# Make sure that we get a last message telling us we are done\u001b[0m\u001b[1;33m\u001b[0m\u001b[1;33m\u001b[0m\u001b[1;33m\u001b[0m\u001b[0m\n\u001b[0;32m    932\u001b[0m             \u001b[0melapsed_time\u001b[0m \u001b[1;33m=\u001b[0m \u001b[0mtime\u001b[0m\u001b[1;33m.\u001b[0m\u001b[0mtime\u001b[0m\u001b[1;33m(\u001b[0m\u001b[1;33m)\u001b[0m \u001b[1;33m-\u001b[0m \u001b[0mself\u001b[0m\u001b[1;33m.\u001b[0m\u001b[0m_start_time\u001b[0m\u001b[1;33m\u001b[0m\u001b[1;33m\u001b[0m\u001b[0m\n",
      "\u001b[1;32m~\\AppData\\Local\\Continuum\\anaconda\\lib\\site-packages\\sklearn\\externals\\joblib\\parallel.py\u001b[0m in \u001b[0;36mretrieve\u001b[1;34m(self)\u001b[0m\n\u001b[0;32m    831\u001b[0m             \u001b[1;32mtry\u001b[0m\u001b[1;33m:\u001b[0m\u001b[1;33m\u001b[0m\u001b[1;33m\u001b[0m\u001b[0m\n\u001b[0;32m    832\u001b[0m                 \u001b[1;32mif\u001b[0m \u001b[0mgetattr\u001b[0m\u001b[1;33m(\u001b[0m\u001b[0mself\u001b[0m\u001b[1;33m.\u001b[0m\u001b[0m_backend\u001b[0m\u001b[1;33m,\u001b[0m \u001b[1;34m'supports_timeout'\u001b[0m\u001b[1;33m,\u001b[0m \u001b[1;32mFalse\u001b[0m\u001b[1;33m)\u001b[0m\u001b[1;33m:\u001b[0m\u001b[1;33m\u001b[0m\u001b[1;33m\u001b[0m\u001b[0m\n\u001b[1;32m--> 833\u001b[1;33m                     \u001b[0mself\u001b[0m\u001b[1;33m.\u001b[0m\u001b[0m_output\u001b[0m\u001b[1;33m.\u001b[0m\u001b[0mextend\u001b[0m\u001b[1;33m(\u001b[0m\u001b[0mjob\u001b[0m\u001b[1;33m.\u001b[0m\u001b[0mget\u001b[0m\u001b[1;33m(\u001b[0m\u001b[0mtimeout\u001b[0m\u001b[1;33m=\u001b[0m\u001b[0mself\u001b[0m\u001b[1;33m.\u001b[0m\u001b[0mtimeout\u001b[0m\u001b[1;33m)\u001b[0m\u001b[1;33m)\u001b[0m\u001b[1;33m\u001b[0m\u001b[1;33m\u001b[0m\u001b[0m\n\u001b[0m\u001b[0;32m    834\u001b[0m                 \u001b[1;32melse\u001b[0m\u001b[1;33m:\u001b[0m\u001b[1;33m\u001b[0m\u001b[1;33m\u001b[0m\u001b[0m\n\u001b[0;32m    835\u001b[0m                     \u001b[0mself\u001b[0m\u001b[1;33m.\u001b[0m\u001b[0m_output\u001b[0m\u001b[1;33m.\u001b[0m\u001b[0mextend\u001b[0m\u001b[1;33m(\u001b[0m\u001b[0mjob\u001b[0m\u001b[1;33m.\u001b[0m\u001b[0mget\u001b[0m\u001b[1;33m(\u001b[0m\u001b[1;33m)\u001b[0m\u001b[1;33m)\u001b[0m\u001b[1;33m\u001b[0m\u001b[1;33m\u001b[0m\u001b[0m\n",
      "\u001b[1;32m~\\AppData\\Local\\Continuum\\anaconda\\lib\\multiprocessing\\pool.py\u001b[0m in \u001b[0;36mget\u001b[1;34m(self, timeout)\u001b[0m\n\u001b[0;32m    675\u001b[0m \u001b[1;33m\u001b[0m\u001b[0m\n\u001b[0;32m    676\u001b[0m     \u001b[1;32mdef\u001b[0m \u001b[0mget\u001b[0m\u001b[1;33m(\u001b[0m\u001b[0mself\u001b[0m\u001b[1;33m,\u001b[0m \u001b[0mtimeout\u001b[0m\u001b[1;33m=\u001b[0m\u001b[1;32mNone\u001b[0m\u001b[1;33m)\u001b[0m\u001b[1;33m:\u001b[0m\u001b[1;33m\u001b[0m\u001b[1;33m\u001b[0m\u001b[0m\n\u001b[1;32m--> 677\u001b[1;33m         \u001b[0mself\u001b[0m\u001b[1;33m.\u001b[0m\u001b[0mwait\u001b[0m\u001b[1;33m(\u001b[0m\u001b[0mtimeout\u001b[0m\u001b[1;33m)\u001b[0m\u001b[1;33m\u001b[0m\u001b[1;33m\u001b[0m\u001b[0m\n\u001b[0m\u001b[0;32m    678\u001b[0m         \u001b[1;32mif\u001b[0m \u001b[1;32mnot\u001b[0m \u001b[0mself\u001b[0m\u001b[1;33m.\u001b[0m\u001b[0mready\u001b[0m\u001b[1;33m(\u001b[0m\u001b[1;33m)\u001b[0m\u001b[1;33m:\u001b[0m\u001b[1;33m\u001b[0m\u001b[1;33m\u001b[0m\u001b[0m\n\u001b[0;32m    679\u001b[0m             \u001b[1;32mraise\u001b[0m \u001b[0mTimeoutError\u001b[0m\u001b[1;33m\u001b[0m\u001b[1;33m\u001b[0m\u001b[0m\n",
      "\u001b[1;32m~\\AppData\\Local\\Continuum\\anaconda\\lib\\multiprocessing\\pool.py\u001b[0m in \u001b[0;36mwait\u001b[1;34m(self, timeout)\u001b[0m\n\u001b[0;32m    672\u001b[0m \u001b[1;33m\u001b[0m\u001b[0m\n\u001b[0;32m    673\u001b[0m     \u001b[1;32mdef\u001b[0m \u001b[0mwait\u001b[0m\u001b[1;33m(\u001b[0m\u001b[0mself\u001b[0m\u001b[1;33m,\u001b[0m \u001b[0mtimeout\u001b[0m\u001b[1;33m=\u001b[0m\u001b[1;32mNone\u001b[0m\u001b[1;33m)\u001b[0m\u001b[1;33m:\u001b[0m\u001b[1;33m\u001b[0m\u001b[1;33m\u001b[0m\u001b[0m\n\u001b[1;32m--> 674\u001b[1;33m         \u001b[0mself\u001b[0m\u001b[1;33m.\u001b[0m\u001b[0m_event\u001b[0m\u001b[1;33m.\u001b[0m\u001b[0mwait\u001b[0m\u001b[1;33m(\u001b[0m\u001b[0mtimeout\u001b[0m\u001b[1;33m)\u001b[0m\u001b[1;33m\u001b[0m\u001b[1;33m\u001b[0m\u001b[0m\n\u001b[0m\u001b[0;32m    675\u001b[0m \u001b[1;33m\u001b[0m\u001b[0m\n\u001b[0;32m    676\u001b[0m     \u001b[1;32mdef\u001b[0m \u001b[0mget\u001b[0m\u001b[1;33m(\u001b[0m\u001b[0mself\u001b[0m\u001b[1;33m,\u001b[0m \u001b[0mtimeout\u001b[0m\u001b[1;33m=\u001b[0m\u001b[1;32mNone\u001b[0m\u001b[1;33m)\u001b[0m\u001b[1;33m:\u001b[0m\u001b[1;33m\u001b[0m\u001b[1;33m\u001b[0m\u001b[0m\n",
      "\u001b[1;32m~\\AppData\\Local\\Continuum\\anaconda\\lib\\threading.py\u001b[0m in \u001b[0;36mwait\u001b[1;34m(self, timeout)\u001b[0m\n\u001b[0;32m    550\u001b[0m             \u001b[0msignaled\u001b[0m \u001b[1;33m=\u001b[0m \u001b[0mself\u001b[0m\u001b[1;33m.\u001b[0m\u001b[0m_flag\u001b[0m\u001b[1;33m\u001b[0m\u001b[1;33m\u001b[0m\u001b[0m\n\u001b[0;32m    551\u001b[0m             \u001b[1;32mif\u001b[0m \u001b[1;32mnot\u001b[0m \u001b[0msignaled\u001b[0m\u001b[1;33m:\u001b[0m\u001b[1;33m\u001b[0m\u001b[1;33m\u001b[0m\u001b[0m\n\u001b[1;32m--> 552\u001b[1;33m                 \u001b[0msignaled\u001b[0m \u001b[1;33m=\u001b[0m \u001b[0mself\u001b[0m\u001b[1;33m.\u001b[0m\u001b[0m_cond\u001b[0m\u001b[1;33m.\u001b[0m\u001b[0mwait\u001b[0m\u001b[1;33m(\u001b[0m\u001b[0mtimeout\u001b[0m\u001b[1;33m)\u001b[0m\u001b[1;33m\u001b[0m\u001b[1;33m\u001b[0m\u001b[0m\n\u001b[0m\u001b[0;32m    553\u001b[0m             \u001b[1;32mreturn\u001b[0m \u001b[0msignaled\u001b[0m\u001b[1;33m\u001b[0m\u001b[1;33m\u001b[0m\u001b[0m\n\u001b[0;32m    554\u001b[0m \u001b[1;33m\u001b[0m\u001b[0m\n",
      "\u001b[1;32m~\\AppData\\Local\\Continuum\\anaconda\\lib\\threading.py\u001b[0m in \u001b[0;36mwait\u001b[1;34m(self, timeout)\u001b[0m\n\u001b[0;32m    294\u001b[0m         \u001b[1;32mtry\u001b[0m\u001b[1;33m:\u001b[0m    \u001b[1;31m# restore state no matter what (e.g., KeyboardInterrupt)\u001b[0m\u001b[1;33m\u001b[0m\u001b[1;33m\u001b[0m\u001b[0m\n\u001b[0;32m    295\u001b[0m             \u001b[1;32mif\u001b[0m \u001b[0mtimeout\u001b[0m \u001b[1;32mis\u001b[0m \u001b[1;32mNone\u001b[0m\u001b[1;33m:\u001b[0m\u001b[1;33m\u001b[0m\u001b[1;33m\u001b[0m\u001b[0m\n\u001b[1;32m--> 296\u001b[1;33m                 \u001b[0mwaiter\u001b[0m\u001b[1;33m.\u001b[0m\u001b[0macquire\u001b[0m\u001b[1;33m(\u001b[0m\u001b[1;33m)\u001b[0m\u001b[1;33m\u001b[0m\u001b[1;33m\u001b[0m\u001b[0m\n\u001b[0m\u001b[0;32m    297\u001b[0m                 \u001b[0mgotit\u001b[0m \u001b[1;33m=\u001b[0m \u001b[1;32mTrue\u001b[0m\u001b[1;33m\u001b[0m\u001b[1;33m\u001b[0m\u001b[0m\n\u001b[0;32m    298\u001b[0m             \u001b[1;32melse\u001b[0m\u001b[1;33m:\u001b[0m\u001b[1;33m\u001b[0m\u001b[1;33m\u001b[0m\u001b[0m\n",
      "\u001b[1;31mKeyboardInterrupt\u001b[0m: "
     ]
    }
   ],
   "source": [
    "best_k=[]\n",
    "for k in range (1,40):\n",
    "    knn=KNeighborsClassifier(n_neighbors=k)\n",
    "    knn.fit(x_train,y_train)\n",
    "    predict_k=knn.predict(x_test)\n",
    "    acc=accuracy_score(y_test, predict_k)\n",
    "    best_k.append(acc)\n",
    "    \n",
    "plt.plot(range(1,40), best_k,ls='--',color='blue',marker='o',markerfacecolor='red',markersize=10)"
   ]
  },
  {
   "cell_type": "code",
   "execution_count": null,
   "metadata": {},
   "outputs": [],
   "source": [
    "knn=KNeighborsClassifier(n_neighbors=7)\n",
    "knn.fit(x_train,y_train)"
   ]
  },
  {
   "cell_type": "code",
   "execution_count": null,
   "metadata": {},
   "outputs": [],
   "source": [
    "rmse = np.sqrt(mean_squared_error(y_test, knnpreds))\n",
    "print(\"RMSE: %f\" % (rmse))"
   ]
  },
  {
   "cell_type": "code",
   "execution_count": null,
   "metadata": {},
   "outputs": [],
   "source": [
    "print(classification_report(y_test,knnpreds))"
   ]
  },
  {
   "cell_type": "markdown",
   "metadata": {},
   "source": [
    "## Gradient Boost"
   ]
  },
  {
   "cell_type": "code",
   "execution_count": null,
   "metadata": {},
   "outputs": [],
   "source": [
    "gb.fit(x_train,y_train)"
   ]
  },
  {
   "cell_type": "code",
   "execution_count": null,
   "metadata": {},
   "outputs": [],
   "source": [
    "gbpreds=gb.predict(x_test)"
   ]
  },
  {
   "cell_type": "code",
   "execution_count": null,
   "metadata": {},
   "outputs": [],
   "source": [
    "rmse = np.sqrt(mean_squared_error(y_test, gbpreds))\n",
    "print(\"RMSE: %f\" % (rmse))"
   ]
  },
  {
   "cell_type": "code",
   "execution_count": null,
   "metadata": {},
   "outputs": [],
   "source": [
    "print(classification_report(y_test,gbpreds))"
   ]
  }
 ],
 "metadata": {
  "kernelspec": {
   "display_name": "Python 3",
   "language": "python",
   "name": "python3"
  },
  "language_info": {
   "codemirror_mode": {
    "name": "ipython",
    "version": 3
   },
   "file_extension": ".py",
   "mimetype": "text/x-python",
   "name": "python",
   "nbconvert_exporter": "python",
   "pygments_lexer": "ipython3",
   "version": "3.7.1"
  }
 },
 "nbformat": 4,
 "nbformat_minor": 2
}
